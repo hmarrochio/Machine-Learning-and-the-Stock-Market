{
 "cells": [
  {
   "cell_type": "markdown",
   "id": "e7a7f902-a1ce-46d3-b14c-c1b50e741c27",
   "metadata": {},
   "source": [
    "# Notebook 5 - Reinforcement Learning Trader \n",
    "### Hugo C Marrochio\n",
    "### Date: Dec 8th 2024"
   ]
  },
  {
   "cell_type": "markdown",
   "id": "eaf5299a-5a7f-4c7a-87dc-6efe9e2e9243",
   "metadata": {},
   "source": [
    "In this notebook, I will continue the analysis of S&P500 data from kaggle (https://www.kaggle.com/datasets/andrewmvd/sp-500-stocks). The goal of this notebook is to focus on training a simple Reinforcement Learning model for trading!\n",
    "\n",
    "The overall goal is to construct an agent (trader) that interacts with the environemnt and learns through iteractive rewards how to trade.\n",
    "\n",
    "Training a very robust reinforcement learning of course is outside the scope of this project, my goal is at least to do a proof of concept and have the bases of a reinforcemen learning trader set up. We leave performing a detailed analysis for a future project.\n",
    "\n",
    "The model analyzed is quite simple: There are three possible actions:\n",
    "\n",
    "- 0: __Buy__\n",
    "- 1: __Hold__\n",
    "- 2: __Sell__\n",
    "\n",
    "In addition, one restriction is that at each day, you can either buy or sell only one stock position. Once again, the goal here is not to construct a robust trader, but to start from a simple model that we can analyze on a personal computer as a laboratory for different incentives. \n",
    "\n",
    "The learning algorithm we consider is of a deep Q-learning problem. We do not train a deep neural network, but still choose this approach being a building block for future investigations.\n",
    "\n",
    "\n",
    "### Notebook 5\n",
    "\n",
    "#### 0 - Loading Auxiliary Functions and csv Files\n",
    "\n",
    "    - Load the data we produced in Notebook 1.\n",
    "    - Import auxiliary functions.\n",
    "\n",
    "#### Part 1 - Data preprocessing\n",
    "\n",
    "    - Similar to the analysis in notebook 4, we prepare rolling window inputs of the time series. \n",
    "\n",
    "#### Part 2 - Simple Recurrent Neural Network for Forecasting\n",
    "     - Fit a simple RNN network to forecast.\n",
    "     - Use the forecast as an input for Q-learning in the next section\n",
    "\n",
    "#### Part 3 - Training the Q-Network\n",
    "    - We train a Q-learning network.\n",
    "\n",
    "\n",
    "#### Part 4 - Exploring the Q-Network\n",
    "    - We show results of our trained network.\n",
    "    - We show how even thought the model was simple, the RL trader was able to learn some interesting strategies."
   ]
  },
  {
   "cell_type": "code",
   "execution_count": 140,
   "id": "3c0d56a0-f9fc-4734-8877-a89aef7d6ebb",
   "metadata": {},
   "outputs": [],
   "source": [
    "import numpy as np\n",
    "import tensorflow as tf\n",
    "from tensorflow.keras.models import Sequential\n",
    "from tensorflow.keras.layers import Dense\n",
    "from collections import deque\n",
    "import random\n",
    "from tensorflow.keras.callbacks import ModelCheckpoint\n",
    "from tensorflow.keras.models import load_model\n",
    "\n"
   ]
  },
  {
   "cell_type": "code",
   "execution_count": 141,
   "id": "7bc50cd6-e675-4768-83fd-3e2d351291f8",
   "metadata": {},
   "outputs": [],
   "source": [
    "import pandas as pd\n",
    "import matplotlib.pyplot as plt\n",
    "import numpy as np\n",
    "import plotly.express as px\n",
    "import matplotlib.dates as mdates\n",
    "\n",
    "\n",
    "from scipy.optimize import minimize\n",
    "from sklearn.neighbors import KernelDensity\n",
    "\n",
    "import seaborn as sns\n",
    "import plotly.graph_objects as go\n",
    "import random\n",
    "plt.rcParams['figure.figsize'] = (8.0, 6.0) #setting figure size\n",
    "from tensorflow.keras.callbacks import EarlyStopping\n",
    "\n",
    "from statsmodels.tsa.statespace.sarimax import SARIMAX\n",
    "\n",
    "\n",
    "from sklearn.metrics import silhouette_score\n",
    "from sklearn.decomposition import PCA\n",
    "\n",
    "import tensorflow as tf\n",
    "from tensorflow.keras.models import Sequential\n",
    "from tensorflow.keras.layers import GRU, Dense\n",
    "from keras.layers import LSTM, Input\n",
    "from sklearn.preprocessing import MinMaxScaler\n",
    "from sklearn.model_selection import train_test_split\n",
    "from tensorflow.keras.metrics import MeanSquaredError\n",
    "from tensorflow.keras.metrics import MeanAbsoluteError\n",
    "from keras.initializers import HeNormal\n",
    "from tensorflow.keras.callbacks import TensorBoard\n",
    "\n",
    "\n",
    "\n",
    "\n",
    "from sklearn.metrics import mean_squared_error"
   ]
  },
  {
   "cell_type": "code",
   "execution_count": 142,
   "id": "f424ccc3-5adf-430a-93d9-10cc3a821332",
   "metadata": {},
   "outputs": [],
   "source": [
    "# importing libraries\n",
    "from keras.models import Sequential\n",
    "from keras.layers import LSTM\n",
    "from keras.layers import Dense\n",
    "from keras.layers import SimpleRNN\n",
    "from keras.layers import Dropout\n",
    "from keras.layers import GRU, Bidirectional\n",
    "from keras.optimizers import SGD\n",
    "from sklearn import metrics\n",
    "from sklearn.metrics import mean_squared_error\n",
    "from keras.optimizers import Adam\n",
    "\n",
    "import datetime"
   ]
  },
  {
   "cell_type": "code",
   "execution_count": 143,
   "id": "b77b249c-52a7-4e4d-b945-668bface2b56",
   "metadata": {},
   "outputs": [],
   "source": [
    "from auxiliary_functions import *"
   ]
  },
  {
   "cell_type": "code",
   "execution_count": 144,
   "id": "1f142291-276c-4f37-8cd5-b2b256f7c401",
   "metadata": {},
   "outputs": [],
   "source": [
    "mse = tf.keras.losses.MeanSquaredError()\n",
    "mae = tf.keras.losses.MeanAbsoluteError()"
   ]
  },
  {
   "cell_type": "code",
   "execution_count": 145,
   "id": "4a784e7e-6033-4595-a723-91ffe3cc0a22",
   "metadata": {},
   "outputs": [],
   "source": [
    "SEED = 1234\n",
    "\n",
    "# Set seeds for Python, NumPy, and TensorFlow\n",
    "random.seed(SEED)\n",
    "np.random.seed(SEED)\n",
    "tf.random.set_seed(SEED)"
   ]
  },
  {
   "cell_type": "markdown",
   "id": "70a7ad17-6450-48f8-b80a-55d4b004818d",
   "metadata": {},
   "source": [
    "# 0. Import data set"
   ]
  },
  {
   "cell_type": "code",
   "execution_count": 146,
   "id": "b15dffd8-52e6-419a-b2d8-68f784401e3b",
   "metadata": {},
   "outputs": [],
   "source": [
    "df_top_100=pd.read_csv('data/sp500_stocks_top_100.csv')\n",
    "df_top_60=pd.read_csv('data/sp500_stocks_top_60.csv')\n",
    "df_top_30=pd.read_csv('data/sp500_stocks_top_30.csv')\n",
    "df_random_100=pd.read_csv('data/sp500_stocks_random_100.csv')\n",
    "df_random_60=pd.read_csv('data/sp500_stocks_random_60.csv')\n",
    "df_random_30=pd.read_csv('data/sp500_stocks_random_30.csv')"
   ]
  },
  {
   "cell_type": "code",
   "execution_count": 147,
   "id": "339ac443-9858-4980-8794-6c2be11ba5bf",
   "metadata": {},
   "outputs": [],
   "source": [
    "#Transform the date column into datetime object\n",
    "df_top_100['Date']=pd.to_datetime(df_top_100['Date'])\n",
    "df_top_60['Date']=pd.to_datetime(df_top_60['Date'])\n",
    "df_top_30['Date']=pd.to_datetime(df_top_30['Date'])\n",
    "df_random_100['Date']=pd.to_datetime(df_random_100['Date'])\n",
    "df_random_60['Date']=pd.to_datetime(df_random_60['Date'])\n",
    "df_random_30['Date']=pd.to_datetime(df_random_30['Date'])"
   ]
  },
  {
   "cell_type": "code",
   "execution_count": 148,
   "id": "337eebc6-3bea-41e7-9a2a-ad06c4076ecb",
   "metadata": {},
   "outputs": [],
   "source": [
    "df_companies=pd.read_csv('data/sp500_companies.csv')\n",
    "df_top100_cluster=pd.read_csv('data/top100_cluster.csv')"
   ]
  },
  {
   "cell_type": "markdown",
   "id": "bf5365d9-67c7-4a92-8781-48040214199f",
   "metadata": {},
   "source": [
    "## Part 1- Data preprocessing"
   ]
  },
  {
   "cell_type": "markdown",
   "id": "a3b00dea-fdce-4166-aad4-e0d90cca34e5",
   "metadata": {},
   "source": [
    "In order to train the Reinforcement Learning Trader, we will need to scale down the data rage to _2 months_ of training and _1 month_ of testing."
   ]
  },
  {
   "cell_type": "code",
   "execution_count": 149,
   "id": "3b7e943c-471c-4808-aeca-e33ca888904c",
   "metadata": {},
   "outputs": [],
   "source": [
    "condition_2m=(df_top_30['Date']>'2015-02-01')&(df_top_30['Date']<='2015-04-02')\n",
    "condition_1m=(df_top_30['Date']>'2015-04-02')&(df_top_30['Date']<='2015-04-30')\n",
    "\n",
    "df_top_30_2m=df_top_30[condition_2m]\n",
    "df_top_30_1m=df_top_30[condition_1m]"
   ]
  },
  {
   "cell_type": "code",
   "execution_count": 150,
   "id": "12487638-6e73-4725-a02e-1996caf7a5a1",
   "metadata": {},
   "outputs": [],
   "source": [
    "df_Apple_train_p=df_top_30_2m[df_top_30_2m['Symbol']=='AAPL'][['Date','Adj Close']].reset_index()\n",
    "df_Apple_train_p.drop('index', axis=1, inplace=True)"
   ]
  },
  {
   "cell_type": "code",
   "execution_count": 151,
   "id": "375f5281-4d16-43c9-af49-724ab4c3b67c",
   "metadata": {},
   "outputs": [
    {
     "data": {
      "text/html": [
       "<div>\n",
       "<style scoped>\n",
       "    .dataframe tbody tr th:only-of-type {\n",
       "        vertical-align: middle;\n",
       "    }\n",
       "\n",
       "    .dataframe tbody tr th {\n",
       "        vertical-align: top;\n",
       "    }\n",
       "\n",
       "    .dataframe thead th {\n",
       "        text-align: right;\n",
       "    }\n",
       "</style>\n",
       "<table border=\"1\" class=\"dataframe\">\n",
       "  <thead>\n",
       "    <tr style=\"text-align: right;\">\n",
       "      <th></th>\n",
       "      <th>Date</th>\n",
       "      <th>Adj Close</th>\n",
       "    </tr>\n",
       "  </thead>\n",
       "  <tbody>\n",
       "    <tr>\n",
       "      <th>0</th>\n",
       "      <td>2015-02-02</td>\n",
       "      <td>26.447294</td>\n",
       "    </tr>\n",
       "    <tr>\n",
       "      <th>1</th>\n",
       "      <td>2015-02-03</td>\n",
       "      <td>26.451756</td>\n",
       "    </tr>\n",
       "    <tr>\n",
       "      <th>2</th>\n",
       "      <td>2015-02-04</td>\n",
       "      <td>26.654627</td>\n",
       "    </tr>\n",
       "    <tr>\n",
       "      <th>3</th>\n",
       "      <td>2015-02-05</td>\n",
       "      <td>26.844877</td>\n",
       "    </tr>\n",
       "    <tr>\n",
       "      <th>4</th>\n",
       "      <td>2015-02-06</td>\n",
       "      <td>26.618818</td>\n",
       "    </tr>\n",
       "  </tbody>\n",
       "</table>\n",
       "</div>"
      ],
      "text/plain": [
       "        Date  Adj Close\n",
       "0 2015-02-02  26.447294\n",
       "1 2015-02-03  26.451756\n",
       "2 2015-02-04  26.654627\n",
       "3 2015-02-05  26.844877\n",
       "4 2015-02-06  26.618818"
      ]
     },
     "execution_count": 151,
     "metadata": {},
     "output_type": "execute_result"
    }
   ],
   "source": [
    "df_Apple_train_p.head()"
   ]
  },
  {
   "cell_type": "code",
   "execution_count": 152,
   "id": "9d848f30-76d0-4dfe-bbf5-03ad74924d2c",
   "metadata": {},
   "outputs": [],
   "source": [
    "df_Apple_test_p=df_top_30_1m[df_top_30_1m['Symbol']=='AAPL'][['Date','Adj Close']].reset_index()\n",
    "df_Apple_test_p.drop('index', axis=1, inplace=True)"
   ]
  },
  {
   "cell_type": "code",
   "execution_count": 153,
   "id": "da8e8e42-9d63-4ec5-82ad-d6fdd9bbcfd0",
   "metadata": {},
   "outputs": [
    {
     "data": {
      "text/html": [
       "<div>\n",
       "<style scoped>\n",
       "    .dataframe tbody tr th:only-of-type {\n",
       "        vertical-align: middle;\n",
       "    }\n",
       "\n",
       "    .dataframe tbody tr th {\n",
       "        vertical-align: top;\n",
       "    }\n",
       "\n",
       "    .dataframe thead th {\n",
       "        text-align: right;\n",
       "    }\n",
       "</style>\n",
       "<table border=\"1\" class=\"dataframe\">\n",
       "  <thead>\n",
       "    <tr style=\"text-align: right;\">\n",
       "      <th></th>\n",
       "      <th>Date</th>\n",
       "      <th>Adj Close</th>\n",
       "    </tr>\n",
       "  </thead>\n",
       "  <tbody>\n",
       "    <tr>\n",
       "      <th>0</th>\n",
       "      <td>2015-04-06</td>\n",
       "      <td>28.503384</td>\n",
       "    </tr>\n",
       "    <tr>\n",
       "      <th>1</th>\n",
       "      <td>2015-04-07</td>\n",
       "      <td>28.203455</td>\n",
       "    </tr>\n",
       "    <tr>\n",
       "      <th>2</th>\n",
       "      <td>2015-04-08</td>\n",
       "      <td>28.111689</td>\n",
       "    </tr>\n",
       "    <tr>\n",
       "      <th>3</th>\n",
       "      <td>2015-04-09</td>\n",
       "      <td>28.326561</td>\n",
       "    </tr>\n",
       "    <tr>\n",
       "      <th>4</th>\n",
       "      <td>2015-04-10</td>\n",
       "      <td>28.447420</td>\n",
       "    </tr>\n",
       "  </tbody>\n",
       "</table>\n",
       "</div>"
      ],
      "text/plain": [
       "        Date  Adj Close\n",
       "0 2015-04-06  28.503384\n",
       "1 2015-04-07  28.203455\n",
       "2 2015-04-08  28.111689\n",
       "3 2015-04-09  28.326561\n",
       "4 2015-04-10  28.447420"
      ]
     },
     "execution_count": 153,
     "metadata": {},
     "output_type": "execute_result"
    }
   ],
   "source": [
    "df_Apple_test_p.head()"
   ]
  },
  {
   "cell_type": "markdown",
   "id": "25ec8ed9-078d-474c-9133-6fe26f72e3b3",
   "metadata": {},
   "source": [
    "Let us plot the price for training and test data."
   ]
  },
  {
   "cell_type": "code",
   "execution_count": 154,
   "id": "60e04cbe-dc8a-4880-9c3b-a5efe66c0c6c",
   "metadata": {},
   "outputs": [
    {
     "data": {
      "image/png": "[encoded data removed]",
      "text/plain": [
       "<Figure size 800x600 with 1 Axes>"
      ]
     },
     "metadata": {},
     "output_type": "display_data"
    }
   ],
   "source": [
    "plt.plot(df_Apple_train_p['Date'],df_Apple_train_p['Adj Close'],color='blue',label='Train')\n",
    "plt.plot(df_Apple_test_p['Date'],df_Apple_test_p['Adj Close'],color='red',label='Test')\n",
    "plt.xlabel('Date')\n",
    "plt.ylabel('Adjusted Price')\n",
    "plt.title('Time series for AAPL stock')\n",
    "plt.legend()\n",
    "plt.savefig('figures/RL/prices_overall.png')\n",
    "plt.show()"
   ]
  },
  {
   "cell_type": "markdown",
   "id": "002567cd-0300-4408-8e02-c66b5c470b69",
   "metadata": {},
   "source": [
    "We will follow now the data preprocessing analysis of notebook 4. There are a few more explanations in notebook 4, the notebook defining the auxiliary functions and the doc strings, we direct the interested reader to these places for more detailed explanations."
   ]
  },
  {
   "cell_type": "markdown",
   "id": "20f64797-833c-47d2-973a-afd95f4b519b",
   "metadata": {},
   "source": [
    "First, we need to scale the training and test data in order to feed into a learning algorithm."
   ]
  },
  {
   "cell_type": "code",
   "execution_count": 155,
   "id": "52bbb14b-1129-41a9-8315-d3756fa6d193",
   "metadata": {},
   "outputs": [],
   "source": [
    "scaled_array_train_p, scaled_array_test_p=data_process_array(df_Apple_train_p,df_Apple_test_p)"
   ]
  },
  {
   "cell_type": "markdown",
   "id": "5cfcda9f-12f5-437d-a024-78c65e3575de",
   "metadata": {},
   "source": [
    "For sanity check, let us plot both training and test data"
   ]
  },
  {
   "cell_type": "code",
   "execution_count": 156,
   "id": "eaec9dd1-e0e7-47da-a334-1e7534cd9330",
   "metadata": {},
   "outputs": [
    {
     "data": {
      "image/png": "[encoded data removed]",
      "text/plain": [
       "<Figure size 800x600 with 1 Axes>"
      ]
     },
     "metadata": {},
     "output_type": "display_data"
    }
   ],
   "source": [
    "plt.plot(df_Apple_train_p['Date'],scaled_array_train_p[:,0],alpha=0.8,color='blue',label='Train')\n",
    "plt.plot(df_Apple_test_p['Date'],scaled_array_test_p[:,0],alpha=0.8,color='red',label='Test')\n",
    "plt.xlabel('Date')\n",
    "plt.ylabel('Scaled Adjusted Price')\n",
    "plt.title('Time series for AAPL stock Scaled Adjusted Price')\n",
    "plt.legend()\n",
    "plt.show()"
   ]
  },
  {
   "cell_type": "markdown",
   "id": "dc45a5d6-13f7-41ba-9e60-be9f3da8dd1c",
   "metadata": {},
   "source": [
    "Great, all values between $0$ and $1$ (test data could be bigger, as it is transformed from the training data fit)."
   ]
  },
  {
   "cell_type": "markdown",
   "id": "b319d06a-d214-4780-a771-6bbf98d2c8c5",
   "metadata": {},
   "source": [
    "As before, it is useful to define a joined dataframe with both training and test data"
   ]
  },
  {
   "cell_type": "code",
   "execution_count": 157,
   "id": "f1e3b920-745e-48c1-817c-128495423446",
   "metadata": {},
   "outputs": [],
   "source": [
    "condition_joined=(df_top_30['Date']>'2015-02-01')&(df_top_30['Date']<='2015-04-30')\n",
    "df_top_30_joined=df_top_30[condition_joined]\n",
    "df_Apple_joined_p=df_top_30_joined[df_top_30_joined['Symbol']=='AAPL'][['Date','Adj Close']].reset_index()\n",
    "df_Apple_joined_p.drop('index', axis=1, inplace=True)"
   ]
  },
  {
   "cell_type": "markdown",
   "id": "366bb4d5-b723-4abb-8c78-be4bbff01143",
   "metadata": {},
   "source": [
    "Next, we want to generate rolling window interval training points."
   ]
  },
  {
   "cell_type": "markdown",
   "id": "718947c8-07f8-4c80-972a-9224c73ac4eb",
   "metadata": {},
   "source": [
    " We will work with __rolling_window=3__, and the auxiliary function\n",
    "`rolling_window_time_series` will divide the training and test time series accordingly."
   ]
  },
  {
   "cell_type": "code",
   "execution_count": 158,
   "id": "7cb58a96-acbf-4a13-9b96-3eb113619bf1",
   "metadata": {},
   "outputs": [
    {
     "data": {
      "text/plain": [
       "(43, 1)"
      ]
     },
     "execution_count": 158,
     "metadata": {},
     "output_type": "execute_result"
    }
   ],
   "source": [
    "scaled_array_train_p.shape"
   ]
  },
  {
   "cell_type": "code",
   "execution_count": 159,
   "id": "b24ab39b-bebe-4446-ae60-4c05653ed533",
   "metadata": {},
   "outputs": [],
   "source": [
    "X_train_p,y_train_p=rolling_window_time_series(scaled_array_train_p,3)\n",
    "X_test_p,y_test_p=rolling_window_time_series(scaled_array_test_p,3)"
   ]
  },
  {
   "cell_type": "code",
   "execution_count": 160,
   "id": "9a6c02be-f0b5-4c12-9506-63ae8da28180",
   "metadata": {},
   "outputs": [
    {
     "name": "stdout",
     "output_type": "stream",
     "text": [
      "X_train : (40, 3, 1) y_train : (40, 1)\n",
      "X_test : (16, 3, 1) y_test : (16, 1)\n"
     ]
    }
   ],
   "source": [
    "# Let us print the shape of the objects. X_train should be (n_input-window,window,1)\n",
    "print(\"X_train :\",X_train_p.shape,\"y_train :\",y_train_p.shape)\n",
    "print(\"X_test :\",X_test_p.shape,\"y_test :\",y_test_p.shape)"
   ]
  },
  {
   "cell_type": "markdown",
   "id": "fd51e1b8-f909-4b9b-beab-57fff6fc04c7",
   "metadata": {},
   "source": [
    "Once more, useful to generate a rolling window that contains all the data."
   ]
  },
  {
   "cell_type": "code",
   "execution_count": 161,
   "id": "25eec7bf-c66c-4c4c-a88d-89b9d4789e25",
   "metadata": {},
   "outputs": [],
   "source": [
    "scaled_joined_p=np.concatenate((scaled_array_train_p, scaled_array_test_p), axis=0)"
   ]
  },
  {
   "cell_type": "code",
   "execution_count": 162,
   "id": "fc416da0-57e1-454e-9a0d-81722109984d",
   "metadata": {},
   "outputs": [],
   "source": [
    "X_joined_p,y_joined=rolling_window_time_series(scaled_joined_p,3)"
   ]
  },
  {
   "cell_type": "markdown",
   "id": "20efb75f-207c-4241-bc67-4d07c81c09d7",
   "metadata": {},
   "source": [
    "For the q-learning problem, I also need to create unscaled arrays rolling window."
   ]
  },
  {
   "cell_type": "markdown",
   "id": "4c00f715-5f3f-4517-ad4d-07bfaa96944e",
   "metadata": {},
   "source": [
    "### it is useful to also define a training array of the original prices unscaled"
   ]
  },
  {
   "cell_type": "code",
   "execution_count": 163,
   "id": "39b11902-f915-4c87-8a31-6d70a1ca8e4f",
   "metadata": {},
   "outputs": [],
   "source": [
    "X_train_og_p,y_train_og_p=rolling_window_time_series(df_Apple_train_p['Adj Close'].values.reshape(-1,1),3)"
   ]
  },
  {
   "cell_type": "code",
   "execution_count": 164,
   "id": "5514d3ed-c01d-491a-a23d-712e75fdc069",
   "metadata": {},
   "outputs": [],
   "source": [
    "list_dates_joined=df_Apple_joined_p['Date'].iloc[3:].tolist()"
   ]
  },
  {
   "cell_type": "markdown",
   "id": "e95e8369-f6aa-4db4-97f6-04c4cbfe605c",
   "metadata": {},
   "source": [
    "## Part 2 - Simple Recurrent Neural Network for Forecasting"
   ]
  },
  {
   "cell_type": "markdown",
   "id": "ef3c823b-ae1a-4cdd-a67b-1e8274114b06",
   "metadata": {},
   "source": [
    "Recall the auxiliar function we created in order to fit Neural Networks. Let us try a few learning_rates as a quick hyperparameter check. "
   ]
  },
  {
   "cell_type": "code",
   "execution_count": 165,
   "id": "45059cd7-3926-4793-9648-5393b2630563",
   "metadata": {},
   "outputs": [
    {
     "name": "stdout",
     "output_type": "stream",
     "text": [
      "\n",
      "    The function to train and fit neural networks! Created the base example the architecture that was mostly successful \n",
      "    for all architectures, but still put enough of hyperparameters as optional inputs so we can experiment with them. \n",
      "\n",
      "    Use simple Recurrent Neural Network as architecture!\n",
      "\n",
      "    Input:\n",
      "    ------\n",
      "    X_train: Shape (n_input-window,window,1), the training data for the neural network.\n",
      "\n",
      "    y_train: Shape (n_input-window,1), the value at window+1 used as a target for training.\n",
      "\n",
      "    experiment: String describing the experiment, useful for labeling the logs. For instance, for a hidden_states experiment, call\n",
      "    the f-string f'hiddenlayers_{hidden_states}'\n",
      "\n",
      "    hidden_states: We fix the architecture as 40-hidden_states-40-1, default is hidden_states=80.\n",
      "\n",
      "    activation: Activation function for the 40-hidden_states-40 layers, default is ReLU.\n",
      "\n",
      "    dropout: Dropout of nodes, useful to control overfitting when it is important. Default is dropout=0.05.\n",
      "\n",
      "    flag_optimizer: Default is True. Pass False if you want to include an optimizer with more options than learning_rate.\n",
      "\n",
      "    optimizer: Default is Adam\n",
      "\n",
      "    learning_rate: Learning rate for the optimizer. Default is 0.001.\n",
      "\n",
      "    batch_size: Default is 2.\n",
      "\n",
      "    epoch: Default is 20.\n",
      "       \n",
      "\n",
      "    Output:\n",
      "    -------\n",
      "\n",
      "    model: Keras object with the tensor network trained on (X_train,y_train).\n",
      "\n",
      "    history: function from the Keras fit, useful for accessing the loss.\n",
      "    \n",
      "\n",
      "    \n",
      "    \n"
     ]
    }
   ],
   "source": [
    "print(neural_network_run_RNN.__doc__)"
   ]
  },
  {
   "cell_type": "code",
   "execution_count": 166,
   "id": "00ea8a1a-701b-45e9-bdc7-079c0d97557e",
   "metadata": {},
   "outputs": [
    {
     "name": "stdout",
     "output_type": "stream",
     "text": [
      "Working on experiment RL_lr_0.0005\n",
      "Working on experiment RL_lr_0.0006\n",
      "Working on experiment RL_lr_0.0007\n",
      "Working on experiment RL_lr_0.0008\n",
      "Working on experiment RL_lr_0.0009\n",
      "Working on experiment RL_lr_0.001\n",
      "Working on experiment RL_lr_0.003\n",
      "Working on experiment RL_lr_0.005\n",
      "Working on experiment RL_lr_0.007\n"
     ]
    }
   ],
   "source": [
    "learning_rates=[0.0005,0.0006,0.0007,0.0008,0.0009,0.001,0.003,0.005,0.007]\n",
    "models_dict_RNN = {}\n",
    "mse_RNN_test=[]\n",
    "mse_RNN_train=[]\n",
    "for lr in learning_rates:\n",
    "    experiment=f'RL_lr_{lr}'\n",
    "\n",
    "    model, model_history=neural_network_run_RNN(X_train_p,y_train_p,experiment,learning_rate=lr)\n",
    "\n",
    "    # Save the model \n",
    "    \n",
    "    models_dict_RNN[f'RNN_{experiment}'] = model\n",
    "\n",
    "\n",
    "    \n",
    "    # Predict using X_joined, outputs the model prediction in the range X_train[40:] and X_test[:]\n",
    "    y_predict = models_dict_RNN[f'RNN_{experiment}'].predict(X_joined_p,verbose=0)\n",
    "\n",
    "\n",
    "    # Create a DataFrame with the prediction\n",
    "    \n",
    "    df_y_predict=pd.DataFrame({'Date':list_dates_joined,'Adj Close':y_predict[:,0]})\n",
    "\n",
    "    # Create an array with the predictions only in the dates of y_test, as we want to calculate MSE for the test data.\n",
    "    \n",
    "    scaled_array_test_predict=df_y_predict[df_y_predict['Date'].isin(df_Apple_test_p['Date'])]['Adj Close'].values\n",
    "\n",
    "    # Compare forecasted with the test data\n",
    "    \n",
    "    mse_train= model_history.history['loss'][-1]\n",
    "    mse_test=mse(scaled_array_test_p[:,0],scaled_array_test_predict).numpy()\n",
    "\n",
    "\n",
    "    #Append to list\n",
    "    mse_RNN_train.append(mse_train)\n",
    "    mse_RNN_test.append(mse_test)"
   ]
  },
  {
   "cell_type": "code",
   "execution_count": 167,
   "id": "43ce656c-ae36-4e06-9eeb-7d78f8f78971",
   "metadata": {},
   "outputs": [
    {
     "data": {
      "text/plain": [
       "[0.01553798,\n",
       " 0.025299387,\n",
       " 0.018832762,\n",
       " 0.017296694,\n",
       " 0.020049684,\n",
       " 0.02426728,\n",
       " 0.042043716,\n",
       " 0.019776113,\n",
       " 0.022493118]"
      ]
     },
     "execution_count": 167,
     "metadata": {},
     "output_type": "execute_result"
    }
   ],
   "source": [
    "mse_RNN_test"
   ]
  },
  {
   "cell_type": "markdown",
   "id": "4b35ad91-87f4-4e89-9147-85a8a7ad85e0",
   "metadata": {},
   "source": [
    "It seems like $0.0005$ was the best learning_rate."
   ]
  },
  {
   "cell_type": "markdown",
   "id": "df7d0e6d-3ad2-4364-b60e-47fdeec97bd7",
   "metadata": {},
   "source": [
    "#### Plot"
   ]
  },
  {
   "cell_type": "markdown",
   "id": "80cb670a-5404-4e45-ba08-5b6149af1ed7",
   "metadata": {},
   "source": [
    "Let us focus on the most successful model."
   ]
  },
  {
   "cell_type": "code",
   "execution_count": 168,
   "id": "168108fc-f39d-486c-a402-1c1a747540d6",
   "metadata": {},
   "outputs": [],
   "source": [
    "y_RNN_predict = models_dict_RNN[f'RNN_RL_lr_0.0005'].predict(X_joined_p,verbose=0)"
   ]
  },
  {
   "cell_type": "markdown",
   "id": "6fedeaa9-db4c-4a8d-bf22-97b2bc46414c",
   "metadata": {},
   "source": [
    "Put in a DataFrame"
   ]
  },
  {
   "cell_type": "code",
   "execution_count": 169,
   "id": "8ad90951-4e18-4a0f-94f5-bd56a4be96b4",
   "metadata": {},
   "outputs": [],
   "source": [
    "df_y_RNN_predict=pd.DataFrame({'Date':list_dates_joined,'Adj Close':y_RNN_predict[:,0]})"
   ]
  },
  {
   "cell_type": "markdown",
   "id": "6ecd0286-ef75-4cba-950a-b069400ec9b4",
   "metadata": {},
   "source": [
    "The neural network gives predictions scaled with the MinMax over the training data. We use the auxiliary function `data_process_inverse_array` to scale back to the original prices."
   ]
  },
  {
   "cell_type": "code",
   "execution_count": 170,
   "id": "1050cef0-5069-4932-be62-df6fe9484046",
   "metadata": {},
   "outputs": [],
   "source": [
    "y_RNN_predict_unscaled=data_process_inverse_array(df_Apple_train_p,y_RNN_predict)"
   ]
  },
  {
   "cell_type": "markdown",
   "id": "2b0b5f69-6085-4f0c-9976-9af22685b894",
   "metadata": {},
   "source": [
    "Let us create a DataFrame for the unscaled prediction"
   ]
  },
  {
   "cell_type": "code",
   "execution_count": 171,
   "id": "00f2a72e-660a-482f-9b37-ffb889a61bc2",
   "metadata": {},
   "outputs": [],
   "source": [
    "df_y_RNN_predict_unscaled=pd.DataFrame({'Date':list_dates_joined,'Adj Close':y_RNN_predict_unscaled[:,0]})\n",
    "df_y_RNN_predict_unscaled_plot=df_y_RNN_predict_unscaled[df_y_RNN_predict_unscaled['Date'].isin(df_Apple_test_p['Date'])]"
   ]
  },
  {
   "cell_type": "markdown",
   "id": "d52549f3-fab5-44ae-9975-7d3b92c8e842",
   "metadata": {},
   "source": [
    "We are ready to plot our prediction"
   ]
  },
  {
   "cell_type": "code",
   "execution_count": 172,
   "id": "331df7dd-8e0b-4319-add2-09be3976200c",
   "metadata": {},
   "outputs": [
    {
     "data": {
      "text/plain": [
       "<matplotlib.legend.Legend at 0x177723490>"
      ]
     },
     "execution_count": 172,
     "metadata": {},
     "output_type": "execute_result"
    },
    {
     "data": {
      "image/png": "[encoded data removed]",
      "text/plain": [
       "<Figure size 800x600 with 1 Axes>"
      ]
     },
     "metadata": {},
     "output_type": "display_data"
    }
   ],
   "source": [
    "plt.plot(df_Apple_train_p['Date'],df_Apple_train_p['Adj Close'],alpha=0.8,color='blue',label='Training Data')\n",
    "plt.plot(df_Apple_test_p['Date'],df_Apple_test_p['Adj Close'],alpha=0.8,color='red',label='Test Data')\n",
    "plt.plot(df_y_RNN_predict_unscaled['Date'],df_y_RNN_predict_unscaled['Adj Close'],alpha=0.8,color='#6b2737',linestyle='dashed',label='Simple RNN')\n",
    "plt.xlabel('Date')\n",
    "plt.ylabel('Price')\n",
    "plt.title('Forecast Price AAPL Stock - Simple RNN')\n",
    "plt.legend()"
   ]
  },
  {
   "cell_type": "markdown",
   "id": "376c3b2b-d833-449b-a28c-b4d121662dd3",
   "metadata": {},
   "source": [
    "Since we have trained on limited data and a smaller rolling window, it makes sense that the forecast is less impressive than the ones we obtained in Notebook 4. However, our goal in this reinforcement learning is just to build a simple model to improve later, so this should be enough."
   ]
  },
  {
   "cell_type": "markdown",
   "id": "ef04179a-2b2c-4bb6-9016-aa618e044a2f",
   "metadata": {},
   "source": [
    "## Part 3 - Training the Q-Network"
   ]
  },
  {
   "cell_type": "code",
   "execution_count": 466,
   "id": "10c48d4f-f1c4-41a9-b742-0af5e68bb1e8",
   "metadata": {},
   "outputs": [],
   "source": [
    "# Set up the environment\n",
    "window_size = 3\n",
    "num_actions = 3  # Buy, hold, sell\n",
    "gamma = 0.95  # Discount factor\n",
    "epsilon = 1.0  # Exploration rate\n",
    "epsilon_min = 0.05\n",
    "epsilon_decay = 0.96\n",
    "batch_size = 8\n",
    "#train_episodes = 100  # Number of training episodes\n",
    "train_episodes = 60\n",
    "\n",
    "\n",
    "# Load the pre-trained price predictor\n",
    "# price_predictor = tf.keras.models.load_model('path_to_your_model.h5')\n",
    "price_predictor=models_dict_RNN[f'RNN_RL_lr_0.0005']\n",
    "\n",
    "\n",
    "# Initialize Q-network and target network\n",
    "q_network = create_q_network(window_size)\n",
    "target_network = create_q_network(window_size)\n",
    "target_network.set_weights(q_network.get_weights())  # Sync target network\n",
    "\n",
    "# Replay buffer\n",
    "replay_buffer = ReplayBuffer(max_size=1500)\n",
    "\n",
    "metrics_df = pd.DataFrame(columns=['episode', 'reward','total_reward', 'portfolio','positions','epsilon', 'epsilon_min', 'epsilon_decay'])\n",
    "\n",
    "\n",
    "# Auxiliary lists\n",
    "aux_price_list=df_Apple_train_p['Adj Close'].tolist()\n",
    "aux_mean_test=[]\n",
    "aux_std_test=[]\n",
    "aux_quantity=[]\n",
    "for t in range(0, len(X_train_p)):\n",
    "    aux_mean_test.append(np.mean(aux_price_list[:t+3]))\n",
    "    aux_std_test.append(np.std(aux_price_list[:t+3]))\n",
    "    quantity_want=(aux_price_list[3-1+t]-np.mean(aux_price_list[:t+3]))/np.std(aux_price_list[:t+3])\n",
    "    aux_quantity.append(quantity_want)\n"
   ]
  },
  {
   "cell_type": "code",
   "execution_count": null,
   "id": "7a0f4e66-a921-4821-aff8-eeb84022a0a1",
   "metadata": {},
   "outputs": [],
   "source": []
  },
  {
   "cell_type": "code",
   "execution_count": 467,
   "id": "7d220e35-4782-4ee6-ac69-490cd4ac9ab2",
   "metadata": {},
   "outputs": [
    {
     "name": "stderr",
     "output_type": "stream",
     "text": [
      "/Users/hmarrochiowork/Brainstation/Capstone/offline/Sprint-3/EDA_auxiliary_functions3.py:1681: FutureWarning:\n",
      "\n",
      "The behavior of DataFrame concatenation with empty or all-NA entries is deprecated. In a future version, this will no longer exclude empty or all-NA columns when determining the result dtypes. To retain the old behavior, exclude the relevant entries before the concat operation.\n",
      "\n"
     ]
    },
    {
     "name": "stdout",
     "output_type": "stream",
     "text": [
      "Episode 1/60, Reward: 0.92, Total Reward: 4.90, Epsilon: 0.96\n",
      "Episode 2/60, Reward: 1.07, Total Reward: -3.10, Epsilon: 0.92\n",
      "Episode 3/60, Reward: 1.16, Total Reward: 1.63, Epsilon: 0.88\n",
      "Episode 4/60, Reward: 0.48, Total Reward: -3.32, Epsilon: 0.85\n",
      "Episode 5/60, Reward: 0.19, Total Reward: -3.88, Epsilon: 0.82\n",
      "Episode 6/60, Reward: 0.54, Total Reward: -2.83, Epsilon: 0.78\n",
      "Episode 7/60, Reward: 1.26, Total Reward: -4.48, Epsilon: 0.75\n",
      "Episode 8/60, Reward: 0.38, Total Reward: -6.19, Epsilon: 0.72\n",
      "Episode 9/60, Reward: 0.19, Total Reward: -3.90, Epsilon: 0.69\n",
      "Episode 10/60, Reward: 0.54, Total Reward: -2.10, Epsilon: 0.66\n",
      "Episode 11/60, Reward: 0.10, Total Reward: -4.13, Epsilon: 0.64\n",
      "Episode 12/60, Reward: 0.48, Total Reward: -3.40, Epsilon: 0.61\n",
      "Episode 13/60, Reward: 0.19, Total Reward: -8.68, Epsilon: 0.59\n",
      "Episode 14/60, Reward: 0.89, Total Reward: 1.85, Epsilon: 0.56\n",
      "Episode 15/60, Reward: 0.11, Total Reward: -9.59, Epsilon: 0.54\n",
      "Episode 16/60, Reward: 0.52, Total Reward: -1.80, Epsilon: 0.52\n",
      "Episode 17/60, Reward: 0.57, Total Reward: -2.36, Epsilon: 0.50\n",
      "Episode 18/60, Reward: 0.62, Total Reward: 0.11, Epsilon: 0.48\n",
      "Episode 19/60, Reward: 0.19, Total Reward: -2.66, Epsilon: 0.46\n",
      "Episode 20/60, Reward: 0.27, Total Reward: -1.16, Epsilon: 0.44\n",
      "Episode 21/60, Reward: 0.14, Total Reward: -2.87, Epsilon: 0.42\n",
      "Episode 22/60, Reward: 0.41, Total Reward: 2.49, Epsilon: 0.41\n",
      "Episode 23/60, Reward: 0.43, Total Reward: 2.67, Epsilon: 0.39\n",
      "Episode 24/60, Reward: -0.11, Total Reward: -6.34, Epsilon: 0.38\n",
      "Episode 25/60, Reward: 0.46, Total Reward: 2.77, Epsilon: 0.36\n",
      "Episode 26/60, Reward: 0.41, Total Reward: 1.83, Epsilon: 0.35\n",
      "Episode 27/60, Reward: 0.41, Total Reward: -0.82, Epsilon: 0.33\n",
      "Episode 28/60, Reward: 0.24, Total Reward: -3.26, Epsilon: 0.32\n",
      "Episode 29/60, Reward: 0.19, Total Reward: -3.76, Epsilon: 0.31\n",
      "Episode 30/60, Reward: -0.12, Total Reward: -3.41, Epsilon: 0.29\n",
      "Episode 31/60, Reward: 0.12, Total Reward: -2.62, Epsilon: 0.28\n",
      "Episode 32/60, Reward: 0.27, Total Reward: -2.78, Epsilon: 0.27\n",
      "Episode 33/60, Reward: 0.12, Total Reward: -4.23, Epsilon: 0.26\n",
      "Episode 34/60, Reward: 0.27, Total Reward: -0.24, Epsilon: 0.25\n",
      "Episode 35/60, Reward: 0.11, Total Reward: -2.53, Epsilon: 0.24\n",
      "Episode 36/60, Reward: 0.31, Total Reward: -1.74, Epsilon: 0.23\n",
      "Episode 37/60, Reward: 0.14, Total Reward: -2.30, Epsilon: 0.22\n",
      "Episode 38/60, Reward: 0.14, Total Reward: -0.21, Epsilon: 0.21\n",
      "Episode 39/60, Reward: 0.11, Total Reward: -0.96, Epsilon: 0.20\n",
      "Episode 40/60, Reward: 0.24, Total Reward: -3.72, Epsilon: 0.20\n",
      "Episode 41/60, Reward: 0.19, Total Reward: 1.37, Epsilon: 0.19\n",
      "Episode 42/60, Reward: 0.14, Total Reward: -2.40, Epsilon: 0.18\n",
      "Episode 43/60, Reward: -0.11, Total Reward: -1.74, Epsilon: 0.17\n",
      "Episode 44/60, Reward: -0.11, Total Reward: -1.09, Epsilon: 0.17\n",
      "Episode 45/60, Reward: -0.11, Total Reward: -3.93, Epsilon: 0.16\n",
      "Episode 46/60, Reward: 0.36, Total Reward: -0.02, Epsilon: 0.15\n",
      "Episode 47/60, Reward: 0.41, Total Reward: -2.53, Epsilon: 0.15\n",
      "Episode 48/60, Reward: 0.36, Total Reward: 0.51, Epsilon: 0.14\n",
      "Episode 49/60, Reward: 0.16, Total Reward: -4.16, Epsilon: 0.14\n",
      "Episode 50/60, Reward: 0.22, Total Reward: -1.42, Epsilon: 0.13\n",
      "Episode 51/60, Reward: 0.11, Total Reward: -3.33, Epsilon: 0.12\n",
      "Episode 52/60, Reward: 0.63, Total Reward: 5.09, Epsilon: 0.12\n",
      "Episode 53/60, Reward: 0.31, Total Reward: 0.23, Epsilon: 0.11\n",
      "Episode 54/60, Reward: 0.57, Total Reward: 1.95, Epsilon: 0.11\n",
      "Episode 55/60, Reward: 0.31, Total Reward: -0.02, Epsilon: 0.11\n",
      "Episode 56/60, Reward: 0.19, Total Reward: -0.93, Epsilon: 0.10\n",
      "Episode 57/60, Reward: 0.82, Total Reward: 0.33, Epsilon: 0.10\n",
      "Episode 58/60, Reward: 0.22, Total Reward: -1.71, Epsilon: 0.09\n",
      "Episode 59/60, Reward: 0.71, Total Reward: 4.87, Epsilon: 0.09\n",
      "Episode 60/60, Reward: 3.71, Total Reward: 22.10, Epsilon: 0.09\n"
     ]
    }
   ],
   "source": [
    "# keep track of q-values and loss if needed to debug and/or evaluate model\n",
    "losses_dict={}\n",
    "q_values_dict={}\n",
    "aux_price_list=df_Apple_train_p['Adj Close'].tolist()\n",
    "for episode in range(train_episodes):\n",
    "    # Initial portfolio value\n",
    "    portfolio = 1000\n",
    "\n",
    "    # Initial number of positions\n",
    "    positions = 20\n",
    "    \n",
    "    total_reward = 0\n",
    "\n",
    "    # keep track of q-values and loss if needed to debug and/or evaluate model\n",
    "    losses_list = []\n",
    "    q_values_list = []\n",
    "\n",
    "    for t in range(len(X_train_p)):\n",
    "        state = X_train_p[t]\n",
    "        current_price = X_train_og_p[t][-1]\n",
    "\n",
    "        predicted_price = price_predictor.predict(state[np.newaxis], verbose=0)[0][0]\n",
    "        augmented_state = np.append(state.flatten(), predicted_price).reshape(1, -1, 1)\n",
    "\n",
    "        q_values = q_network.predict(augmented_state, verbose=0)\n",
    "        action = choose_action(q_values, epsilon)\n",
    "\n",
    "        # Execute action\n",
    "        if action == 0 and portfolio >= current_price:  # Buy\n",
    "            positions += 1\n",
    "            portfolio -= current_price\n",
    "        elif action == 2 and positions > 0:  # Sell\n",
    "            positions -= 1\n",
    "            portfolio += current_price\n",
    "\n",
    "        # If the action is Hold, we do not need to do something\n",
    "\n",
    "        # Auxiliary mean and std, using the data we have access to the past.\n",
    "        aux_mean = np.mean(aux_price_list[:t+3])\n",
    "        aux_std = max(np.std(aux_price_list[:t+3]),0.0001)\n",
    "\n",
    "        \n",
    "        # Calculate reward\n",
    "        reward = calculate_reward(portfolio, positions, current_price, action, aux_mean, aux_std,augmented_state)\n",
    "        total_reward += reward\n",
    "\n",
    "        # Store experience\n",
    "        if t < len(X_train_p) - 1:\n",
    "            next_state = X_train_p[t + 1]\n",
    "            next_predicted_price = price_predictor.predict(next_state[np.newaxis], verbose=0)[0][0]\n",
    "            next_augmented_state = np.append(next_state.flatten(), next_predicted_price).reshape(-1, 1)\n",
    "\n",
    "            replay_buffer.store((augmented_state.reshape(-1, 1), action, reward, next_augmented_state))\n",
    "\n",
    "        # Train the Q-network\n",
    "        q_values_batch, loss = train_q_network(q_network, target_network, replay_buffer, batch_size, gamma)\n",
    "        if q_values_batch and loss:\n",
    "            q_values_list.append(q_values_batch)\n",
    "            losses_list.append(loss)\n",
    "\n",
    "    # Log results\n",
    "    losses_dict[f'episode_{episode+1}'] = losses_list\n",
    "    q_values_dict[f'episode_{episode+1}'] = q_values_list\n",
    "\n",
    "    # Update epsilon\n",
    "    epsilon = max(epsilon_min, epsilon * epsilon_decay)\n",
    "\n",
    "    # Periodically update target network\n",
    "    if episode % 10 == 0:\n",
    "        update_target_network(q_network, target_network)\n",
    "\n",
    "    # Save checkpoints and metrics\n",
    "    if (episode + 1) % 1 == 0:\n",
    "        metrics_df = log_episode_data(\n",
    "            episode=episode+1,\n",
    "            q_network=q_network,\n",
    "            replay_buffer=replay_buffer,\n",
    "            metrics_df=metrics_df,\n",
    "            reward=reward,\n",
    "            total_reward=total_reward,\n",
    "            portfolio=portfolio,\n",
    "            positions=positions,\n",
    "            epsilon=epsilon,\n",
    "            epsilon_min=epsilon_min,\n",
    "            epsilon_decay=epsilon_decay\n",
    "        )\n",
    "\n",
    "    print(f\"Episode {episode+1}/{train_episodes}, Reward: {reward.item():.2f}, Total Reward: {total_reward.item():.2f}, Epsilon: {epsilon:.2f}\")\n"
   ]
  },
  {
   "cell_type": "markdown",
   "id": "4a67c63c-5fd1-4d8c-ab02-6b1eb14efcbd",
   "metadata": {},
   "source": [
    "## Part 4 - Exploring the Q-Network"
   ]
  },
  {
   "cell_type": "markdown",
   "id": "3c213eb0-26c6-4e6f-a9a5-0b537a327851",
   "metadata": {},
   "source": [
    "Let us investigate how the loss evolves per episode. We are essentially averaging over all the individual losses in `X_train_p`"
   ]
  },
  {
   "cell_type": "code",
   "execution_count": 473,
   "id": "96538517-7694-40ef-a0dc-edad21ffc126",
   "metadata": {},
   "outputs": [],
   "source": [
    "losses_per_episode=[]\n",
    "for i in range(1,train_episodes):\n",
    "    losses_per_episode.append(np.mean(losses_dict[f'episode_{i}']))"
   ]
  },
  {
   "cell_type": "code",
   "execution_count": 486,
   "id": "851a9618-e37d-49d3-8014-7764566f0b25",
   "metadata": {},
   "outputs": [
    {
     "data": {
      "image/png": "[encoded data removed]",
      "text/plain": [
       "<Figure size 800x600 with 1 Axes>"
      ]
     },
     "metadata": {},
     "output_type": "display_data"
    }
   ],
   "source": [
    "plt.plot(losses_per_episode)\n",
    "plt.title('Average Q-learning loss per episode')\n",
    "plt.xlabel('Training Episode')\n",
    "plt.ylabel('Loss (MSE)')\n",
    "plt.savefig('figures/RL/loss_episode.png')\n",
    "plt.show()"
   ]
  },
  {
   "cell_type": "markdown",
   "id": "2362d479-717e-462f-a8c7-eca02838bcd0",
   "metadata": {},
   "source": [
    "We see that the loss overall had a tendency to decrease, which for the simplicty of the model and how we did not optimize hyperparameters, this is a good first indication of what a successful training could look like."
   ]
  },
  {
   "cell_type": "markdown",
   "id": "d5c4a2f1-3061-4c70-aabc-43218ccd9954",
   "metadata": {},
   "source": [
    "Let us load the model from the h5 file, just in order to sure how to proceed in case training had been interrupted. "
   ]
  },
  {
   "cell_type": "code",
   "execution_count": 476,
   "id": "f00e7aba-c396-43ec-ad2f-7cc97caf3ee8",
   "metadata": {},
   "outputs": [],
   "source": [
    "q_network_try=load_model('2trading_q_network_episode_60.h5')"
   ]
  },
  {
   "cell_type": "markdown",
   "id": "2069e03b-1379-4124-92a7-6bb921643aa9",
   "metadata": {},
   "source": [
    "#### Plot the prediction"
   ]
  },
  {
   "cell_type": "markdown",
   "id": "0d64906c-13fc-4421-9c0b-06a2723da7b1",
   "metadata": {},
   "source": [
    "Let us create a list with the actions predicted by the network. The output of the prediction is Q-values, and the action is the one corresponding to the highest Q-value."
   ]
  },
  {
   "cell_type": "code",
   "execution_count": 481,
   "id": "06114c6b-8a57-4654-81f2-5a5123b95ff6",
   "metadata": {},
   "outputs": [],
   "source": [
    "actions_list2=[]\n",
    "q_values_list2=[]\n",
    "for t in range(0, len(X_joined_p)):\n",
    "    state = X_joined_p[t]\n",
    "\n",
    "    predicted_price = price_predictor.predict(state[np.newaxis], verbose=0)[0][0]\n",
    "\n",
    "    augmented_state = np.append(state.flatten(), predicted_price).reshape(1, -1, 1)  # Shape: (1, 4, 1)\n",
    "\n",
    "    # Get Q_values prediction from the Q-network we trained\n",
    "    q_values = q_network_try.predict(augmented_state, verbose=0) \n",
    "    q_values_list2.append(q_values)\n",
    "\n",
    "    #Action should be the largest Q-value\n",
    "    actions = np.argmax(q_values, axis=1)\n",
    "    actions_list2.append(actions.item())"
   ]
  },
  {
   "cell_type": "markdown",
   "id": "d5bbfd8a-bfdb-43d0-b4e8-82692ba84e49",
   "metadata": {},
   "source": [
    "Now let us run a trading simulation. We start with $\\$ 1000$ dollars and $20$ positions, as we trained.\n",
    "\n",
    "I also plot wealth, which is the total amount of assets we have at a given day: both money not invested, as well as the amount of positions multiplied by the price that day."
   ]
  },
  {
   "cell_type": "code",
   "execution_count": 487,
   "id": "11a017f8-79d8-4a53-9476-a819640f6a69",
   "metadata": {},
   "outputs": [],
   "source": [
    "portfolio_p=1000\n",
    "positions_p=20\n",
    "prices_nice_list2=df_Apple_joined_p['Adj Close'].tolist()[3:62]\n",
    "wealth_list2=[]\n",
    "portfolio_trading_day2=[]\n",
    "positions_trading_day2=[]\n",
    "\n",
    "for index,action in enumerate(actions_list2):\n",
    "    portfolio_old=portfolio_p\n",
    "\n",
    "    # Map the actions predicted by Q-learning in order to simulate the trading\n",
    "    if action==0:\n",
    "        portfolio_p-=prices_nice_list2[index]\n",
    "        positions_p+=1\n",
    "    elif action==1:\n",
    "        pass\n",
    "    elif action==2 and positions_p>0:\n",
    "        positions_p-=1\n",
    "        portfolio_p+= prices_nice_list2[index]\n",
    "\n",
    "    # Append the values to the list\n",
    "    \n",
    "    portfolio_trading_day2.append(portfolio_p)\n",
    "    positions_trading_day2.append(positions_p)\n",
    "    wealth=portfolio_p+(positions_p*prices_nice_list2[index])\n",
    "    wealth_list2.append(wealth)\n",
    "\n",
    "        \n",
    "        \n",
    "        \n",
    "    \n"
   ]
  },
  {
   "cell_type": "markdown",
   "id": "4ffcb21b-d3bc-4761-835b-4a6940014442",
   "metadata": {},
   "source": [
    "We are ready to plot our results. First, notice how we were successful in increasing our `wealth`, despite how primitive the model is - for instance, we can't even sell or buy more than one position a day! The important trend is that whenever the price was increasing, we had an incentive to sell positions, adn when it was decreasing, we would hold or buy. Notice that the data to the right of the black line is unseen data. "
   ]
  },
  {
   "cell_type": "code",
   "execution_count": 492,
   "id": "a7857c71-2cf3-46ee-a544-e25e655e8f29",
   "metadata": {},
   "outputs": [
    {
     "data": {
      "image/png": "[encoded data removed]",
      "text/plain": [
       "<Figure size 800x600 with 2 Axes>"
      ]
     },
     "metadata": {},
     "output_type": "display_data"
    }
   ],
   "source": [
    "# Create the figure and the first y-axis\n",
    "fig, ax1 = plt.subplots()\n",
    "\n",
    "# Plot the first line on the left y-axis\n",
    "ax1.plot(wealth_list2, color='b', linestyle='-', label='Wealth')\n",
    "ax1.set_xlabel('Trading Day')\n",
    "ax1.set_ylabel('Wealth', color='b')\n",
    "ax1.tick_params(axis='y', labelcolor='b')\n",
    "\n",
    "# Create the second y-axis\n",
    "ax2 = ax1.twinx()\n",
    "\n",
    "# Plot the second line on the right y-axis\n",
    "ax2.plot(positions_trading_day2, color='r', linestyle='--',label='Positions')\n",
    "ax2.set_ylabel('Positions', color='r')\n",
    "ax2.tick_params(axis='y', labelcolor='r')\n",
    "ax2.set_yticks(range(min(positions_trading_day2), max(positions_trading_day2) + 10, 6))\n",
    "\n",
    "\n",
    "# Add a title\n",
    "plt.title('RL Trader strategy on both Training and Unseen data')\n",
    "\n",
    "plt.axvline(x=40, color='black', linestyle='-.')\n",
    "\n",
    "\n",
    "# Optional: Add legends for clarity\n",
    "fig.legend(loc=\"upper center\", ncol=2)\n",
    "\n",
    "fig.savefig('figures/RL/wealth_and_position2.png')\n",
    "\n",
    "\n",
    "# Show the plot\n",
    "plt.show()"
   ]
  },
  {
   "cell_type": "code",
   "execution_count": 493,
   "id": "735769f3-4f2c-40cd-bbad-6774426ba9b2",
   "metadata": {},
   "outputs": [
    {
     "data": {
      "application/vnd.plotly.v1+json": {
       "config": {
        "plotlyServerURL": "https://plot.ly"
       },
       "data": [
        {
         "hovertemplate": "Action=Sell<br>Time=%{x}<br>Price=%{y}<extra></extra>",
         "legendgroup": "Sell",
         "marker": {
          "color": "red",
          "size": 10,
          "symbol": "circle"
         },
         "mode": "markers",
         "name": "Sell",
         "orientation": "v",
         "showlegend": true,
         "type": "scatter",
         "x": [
          "2015-02-05T00:00:00",
          "2015-02-06T00:00:00",
          "2015-02-09T00:00:00",
          "2015-02-10T00:00:00",
          "2015-02-11T00:00:00",
          "2015-02-12T00:00:00",
          "2015-02-13T00:00:00",
          "2015-02-19T00:00:00",
          "2015-02-23T00:00:00",
          "2015-02-24T00:00:00",
          "2015-02-25T00:00:00",
          "2015-02-26T00:00:00",
          "2015-02-27T00:00:00",
          "2015-03-02T00:00:00",
          "2015-03-04T00:00:00",
          "2015-03-18T00:00:00",
          "2015-03-19T00:00:00",
          "2015-04-07T00:00:00",
          "2015-04-22T00:00:00",
          "2015-04-24T00:00:00",
          "2015-04-27T00:00:00",
          "2015-04-28T00:00:00",
          "2015-04-29T00:00:00"
         ],
         "xaxis": "x",
         "y": [
          26.844877243041992,
          26.618818283081055,
          26.795631408691406,
          27.31041717529297,
          27.950538635253903,
          28.30417251586914,
          28.44294548034668,
          28.749576568603516,
          29.76794815063477,
          29.582181930541992,
          28.825674057006836,
          29.190502166748047,
          28.75181770324707,
          28.8928165435791,
          28.76972198486328,
          28.75404930114746,
          28.536945343017575,
          28.203454971313477,
          28.787626266479492,
          29.159164428710938,
          29.689619064331055,
          29.221839904785156,
          28.792104721069336
         ],
         "yaxis": "y"
        },
        {
         "hovertemplate": "Action=Hold<br>Time=%{x}<br>Price=%{y}<extra></extra>",
         "legendgroup": "Hold",
         "marker": {
          "color": "gray",
          "size": 10,
          "symbol": "diamond"
         },
         "mode": "markers",
         "name": "Hold",
         "orientation": "v",
         "showlegend": true,
         "type": "scatter",
         "x": [
          "2015-02-17T00:00:00",
          "2015-02-20T00:00:00",
          "2015-03-11T00:00:00",
          "2015-03-12T00:00:00",
          "2015-03-16T00:00:00",
          "2015-03-20T00:00:00",
          "2015-03-25T00:00:00",
          "2015-03-26T00:00:00",
          "2015-03-30T00:00:00",
          "2015-04-01T00:00:00",
          "2015-04-08T00:00:00",
          "2015-04-13T00:00:00",
          "2015-04-17T00:00:00",
          "2015-04-20T00:00:00"
         ],
         "xaxis": "x",
         "y": [
          28.61080551147461,
          28.98458480834961,
          27.359655380249023,
          27.854297637939453,
          27.966205596923828,
          28.178834915161133,
          27.614810943603516,
          27.807294845581055,
          28.284034729003903,
          27.80953598022461,
          28.1116886138916,
          28.391462326049805,
          27.921445846557617,
          28.559328079223633
         ],
         "yaxis": "y"
        },
        {
         "hovertemplate": "Action=Buy<br>Time=%{x}<br>Price=%{y}<extra></extra>",
         "legendgroup": "Buy",
         "marker": {
          "color": "#00FF7F",
          "size": 10,
          "symbol": "square"
         },
         "mode": "markers",
         "name": "Buy",
         "orientation": "v",
         "showlegend": true,
         "type": "scatter",
         "x": [
          "2015-02-18T00:00:00",
          "2015-03-03T00:00:00",
          "2015-03-05T00:00:00",
          "2015-03-06T00:00:00",
          "2015-03-09T00:00:00",
          "2015-03-10T00:00:00",
          "2015-03-13T00:00:00",
          "2015-03-17T00:00:00",
          "2015-03-23T00:00:00",
          "2015-03-24T00:00:00",
          "2015-03-27T00:00:00",
          "2015-03-31T00:00:00",
          "2015-04-02T00:00:00",
          "2015-04-06T00:00:00",
          "2015-04-09T00:00:00",
          "2015-04-10T00:00:00",
          "2015-04-14T00:00:00",
          "2015-04-15T00:00:00",
          "2015-04-16T00:00:00",
          "2015-04-21T00:00:00",
          "2015-04-23T00:00:00",
          "2015-04-30T00:00:00"
         ],
         "xaxis": "x",
         "y": [
          28.81001091003418,
          28.9532470703125,
          28.29298210144043,
          28.335508346557617,
          28.45637321472168,
          27.867733001708984,
          27.66181373596191,
          28.433988571166992,
          28.47203826904297,
          28.35565185546875,
          27.585718154907227,
          27.849822998046875,
          28.049015045166016,
          28.50338363647461,
          28.326560974121097,
          28.447420120239254,
          28.26836204528809,
          28.37580108642578,
          28.239273071289062,
          28.404890060424805,
          29.022634506225582,
          28.01097297668457
         ],
         "yaxis": "y"
        },
        {
         "line": {
          "color": "blue",
          "width": 2
         },
         "marker": {
          "size": 10
         },
         "mode": "lines",
         "name": "Price",
         "type": "scatter",
         "x": [
          "2015-02-05T00:00:00",
          "2015-02-06T00:00:00",
          "2015-02-09T00:00:00",
          "2015-02-10T00:00:00",
          "2015-02-11T00:00:00",
          "2015-02-12T00:00:00",
          "2015-02-13T00:00:00",
          "2015-02-17T00:00:00",
          "2015-02-18T00:00:00",
          "2015-02-19T00:00:00",
          "2015-02-20T00:00:00",
          "2015-02-23T00:00:00",
          "2015-02-24T00:00:00",
          "2015-02-25T00:00:00",
          "2015-02-26T00:00:00",
          "2015-02-27T00:00:00",
          "2015-03-02T00:00:00",
          "2015-03-03T00:00:00",
          "2015-03-04T00:00:00",
          "2015-03-05T00:00:00",
          "2015-03-06T00:00:00",
          "2015-03-09T00:00:00",
          "2015-03-10T00:00:00",
          "2015-03-11T00:00:00",
          "2015-03-12T00:00:00",
          "2015-03-13T00:00:00",
          "2015-03-16T00:00:00",
          "2015-03-17T00:00:00",
          "2015-03-18T00:00:00",
          "2015-03-19T00:00:00",
          "2015-03-20T00:00:00",
          "2015-03-23T00:00:00",
          "2015-03-24T00:00:00",
          "2015-03-25T00:00:00",
          "2015-03-26T00:00:00",
          "2015-03-27T00:00:00",
          "2015-03-30T00:00:00",
          "2015-03-31T00:00:00",
          "2015-04-01T00:00:00",
          "2015-04-02T00:00:00",
          "2015-04-06T00:00:00",
          "2015-04-07T00:00:00",
          "2015-04-08T00:00:00",
          "2015-04-09T00:00:00",
          "2015-04-10T00:00:00",
          "2015-04-13T00:00:00",
          "2015-04-14T00:00:00",
          "2015-04-15T00:00:00",
          "2015-04-16T00:00:00",
          "2015-04-17T00:00:00",
          "2015-04-20T00:00:00",
          "2015-04-21T00:00:00",
          "2015-04-22T00:00:00",
          "2015-04-23T00:00:00",
          "2015-04-24T00:00:00",
          "2015-04-27T00:00:00",
          "2015-04-28T00:00:00",
          "2015-04-29T00:00:00",
          "2015-04-30T00:00:00"
         ],
         "y": [
          26.844877243041992,
          26.618818283081055,
          26.795631408691406,
          27.31041717529297,
          27.950538635253903,
          28.30417251586914,
          28.44294548034668,
          28.61080551147461,
          28.81001091003418,
          28.749576568603516,
          28.98458480834961,
          29.76794815063477,
          29.582181930541992,
          28.825674057006836,
          29.190502166748047,
          28.75181770324707,
          28.8928165435791,
          28.9532470703125,
          28.76972198486328,
          28.29298210144043,
          28.335508346557617,
          28.45637321472168,
          27.867733001708984,
          27.359655380249023,
          27.854297637939453,
          27.66181373596191,
          27.966205596923828,
          28.433988571166992,
          28.75404930114746,
          28.536945343017575,
          28.178834915161133,
          28.47203826904297,
          28.35565185546875,
          27.614810943603516,
          27.807294845581055,
          27.585718154907227,
          28.284034729003903,
          27.849822998046875,
          27.80953598022461,
          28.049015045166016,
          28.50338363647461,
          28.203454971313477,
          28.1116886138916,
          28.326560974121097,
          28.447420120239254,
          28.391462326049805,
          28.26836204528809,
          28.37580108642578,
          28.239273071289062,
          27.921445846557617,
          28.559328079223633,
          28.404890060424805,
          28.787626266479492,
          29.022634506225582,
          29.159164428710938,
          29.689619064331055,
          29.221839904785156,
          28.792104721069336,
          28.01097297668457
         ]
        }
       ],
       "layout": {
        "autosize": true,
        "legend": {
         "title": {
          "text": "Actions"
         },
         "tracegroupgap": 0
        },
        "shapes": [
         {
          "line": {
           "color": "green",
           "dash": "dash",
           "width": 1.5
          },
          "type": "line",
          "x0": "2015-04-01T00:00:00",
          "x1": "2015-04-01T00:00:00",
          "xref": "x",
          "y0": 0,
          "y1": 1,
          "yref": "y domain"
         }
        ],
        "template": {
         "data": {
          "bar": [
           {
            "error_x": {
             "color": "#2a3f5f"
            },
            "error_y": {
             "color": "#2a3f5f"
            },
            "marker": {
             "line": {
              "color": "white",
              "width": 0.5
             },
             "pattern": {
              "fillmode": "overlay",
              "size": 10,
              "solidity": 0.2
             }
            },
            "type": "bar"
           }
          ],
          "barpolar": [
           {
            "marker": {
             "line": {
              "color": "white",
              "width": 0.5
             },
             "pattern": {
              "fillmode": "overlay",
              "size": 10,
              "solidity": 0.2
             }
            },
            "type": "barpolar"
           }
          ],
          "carpet": [
           {
            "aaxis": {
             "endlinecolor": "#2a3f5f",
             "gridcolor": "#C8D4E3",
             "linecolor": "#C8D4E3",
             "minorgridcolor": "#C8D4E3",
             "startlinecolor": "#2a3f5f"
            },
            "baxis": {
             "endlinecolor": "#2a3f5f",
             "gridcolor": "#C8D4E3",
             "linecolor": "#C8D4E3",
             "minorgridcolor": "#C8D4E3",
             "startlinecolor": "#2a3f5f"
            },
            "type": "carpet"
           }
          ],
          "choropleth": [
           {
            "colorbar": {
             "outlinewidth": 0,
             "ticks": ""
            },
            "type": "choropleth"
           }
          ],
          "contour": [
           {
            "colorbar": {
             "outlinewidth": 0,
             "ticks": ""
            },
            "colorscale": [
             [
              0,
              "#0d0887"
             ],
             [
              0.1111111111111111,
              "#46039f"
             ],
             [
              0.2222222222222222,
              "#7201a8"
             ],
             [
              0.3333333333333333,
              "#9c179e"
             ],
             [
              0.4444444444444444,
              "#bd3786"
             ],
             [
              0.5555555555555556,
              "#d8576b"
             ],
             [
              0.6666666666666666,
              "#ed7953"
             ],
             [
              0.7777777777777778,
              "#fb9f3a"
             ],
             [
              0.8888888888888888,
              "#fdca26"
             ],
             [
              1,
              "#f0f921"
             ]
            ],
            "type": "contour"
           }
          ],
          "contourcarpet": [
           {
            "colorbar": {
             "outlinewidth": 0,
             "ticks": ""
            },
            "type": "contourcarpet"
           }
          ],
          "heatmap": [
           {
            "colorbar": {
             "outlinewidth": 0,
             "ticks": ""
            },
            "colorscale": [
             [
              0,
              "#0d0887"
             ],
             [
              0.1111111111111111,
              "#46039f"
             ],
             [
              0.2222222222222222,
              "#7201a8"
             ],
             [
              0.3333333333333333,
              "#9c179e"
             ],
             [
              0.4444444444444444,
              "#bd3786"
             ],
             [
              0.5555555555555556,
              "#d8576b"
             ],
             [
              0.6666666666666666,
              "#ed7953"
             ],
             [
              0.7777777777777778,
              "#fb9f3a"
             ],
             [
              0.8888888888888888,
              "#fdca26"
             ],
             [
              1,
              "#f0f921"
             ]
            ],
            "type": "heatmap"
           }
          ],
          "heatmapgl": [
           {
            "colorbar": {
             "outlinewidth": 0,
             "ticks": ""
            },
            "colorscale": [
             [
              0,
              "#0d0887"
             ],
             [
              0.1111111111111111,
              "#46039f"
             ],
             [
              0.2222222222222222,
              "#7201a8"
             ],
             [
              0.3333333333333333,
              "#9c179e"
             ],
             [
              0.4444444444444444,
              "#bd3786"
             ],
             [
              0.5555555555555556,
              "#d8576b"
             ],
             [
              0.6666666666666666,
              "#ed7953"
             ],
             [
              0.7777777777777778,
              "#fb9f3a"
             ],
             [
              0.8888888888888888,
              "#fdca26"
             ],
             [
              1,
              "#f0f921"
             ]
            ],
            "type": "heatmapgl"
           }
          ],
          "histogram": [
           {
            "marker": {
             "pattern": {
              "fillmode": "overlay",
              "size": 10,
              "solidity": 0.2
             }
            },
            "type": "histogram"
           }
          ],
          "histogram2d": [
           {
            "colorbar": {
             "outlinewidth": 0,
             "ticks": ""
            },
            "colorscale": [
             [
              0,
              "#0d0887"
             ],
             [
              0.1111111111111111,
              "#46039f"
             ],
             [
              0.2222222222222222,
              "#7201a8"
             ],
             [
              0.3333333333333333,
              "#9c179e"
             ],
             [
              0.4444444444444444,
              "#bd3786"
             ],
             [
              0.5555555555555556,
              "#d8576b"
             ],
             [
              0.6666666666666666,
              "#ed7953"
             ],
             [
              0.7777777777777778,
              "#fb9f3a"
             ],
             [
              0.8888888888888888,
              "#fdca26"
             ],
             [
              1,
              "#f0f921"
             ]
            ],
            "type": "histogram2d"
           }
          ],
          "histogram2dcontour": [
           {
            "colorbar": {
             "outlinewidth": 0,
             "ticks": ""
            },
            "colorscale": [
             [
              0,
              "#0d0887"
             ],
             [
              0.1111111111111111,
              "#46039f"
             ],
             [
              0.2222222222222222,
              "#7201a8"
             ],
             [
              0.3333333333333333,
              "#9c179e"
             ],
             [
              0.4444444444444444,
              "#bd3786"
             ],
             [
              0.5555555555555556,
              "#d8576b"
             ],
             [
              0.6666666666666666,
              "#ed7953"
             ],
             [
              0.7777777777777778,
              "#fb9f3a"
             ],
             [
              0.8888888888888888,
              "#fdca26"
             ],
             [
              1,
              "#f0f921"
             ]
            ],
            "type": "histogram2dcontour"
           }
          ],
          "mesh3d": [
           {
            "colorbar": {
             "outlinewidth": 0,
             "ticks": ""
            },
            "type": "mesh3d"
           }
          ],
          "parcoords": [
           {
            "line": {
             "colorbar": {
              "outlinewidth": 0,
              "ticks": ""
             }
            },
            "type": "parcoords"
           }
          ],
          "pie": [
           {
            "automargin": true,
            "type": "pie"
           }
          ],
          "scatter": [
           {
            "fillpattern": {
             "fillmode": "overlay",
             "size": 10,
             "solidity": 0.2
            },
            "type": "scatter"
           }
          ],
          "scatter3d": [
           {
            "line": {
             "colorbar": {
              "outlinewidth": 0,
              "ticks": ""
             }
            },
            "marker": {
             "colorbar": {
              "outlinewidth": 0,
              "ticks": ""
             }
            },
            "type": "scatter3d"
           }
          ],
          "scattercarpet": [
           {
            "marker": {
             "colorbar": {
              "outlinewidth": 0,
              "ticks": ""
             }
            },
            "type": "scattercarpet"
           }
          ],
          "scattergeo": [
           {
            "marker": {
             "colorbar": {
              "outlinewidth": 0,
              "ticks": ""
             }
            },
            "type": "scattergeo"
           }
          ],
          "scattergl": [
           {
            "marker": {
             "colorbar": {
              "outlinewidth": 0,
              "ticks": ""
             }
            },
            "type": "scattergl"
           }
          ],
          "scattermapbox": [
           {
            "marker": {
             "colorbar": {
              "outlinewidth": 0,
              "ticks": ""
             }
            },
            "type": "scattermapbox"
           }
          ],
          "scatterpolar": [
           {
            "marker": {
             "colorbar": {
              "outlinewidth": 0,
              "ticks": ""
             }
            },
            "type": "scatterpolar"
           }
          ],
          "scatterpolargl": [
           {
            "marker": {
             "colorbar": {
              "outlinewidth": 0,
              "ticks": ""
             }
            },
            "type": "scatterpolargl"
           }
          ],
          "scatterternary": [
           {
            "marker": {
             "colorbar": {
              "outlinewidth": 0,
              "ticks": ""
             }
            },
            "type": "scatterternary"
           }
          ],
          "surface": [
           {
            "colorbar": {
             "outlinewidth": 0,
             "ticks": ""
            },
            "colorscale": [
             [
              0,
              "#0d0887"
             ],
             [
              0.1111111111111111,
              "#46039f"
             ],
             [
              0.2222222222222222,
              "#7201a8"
             ],
             [
              0.3333333333333333,
              "#9c179e"
             ],
             [
              0.4444444444444444,
              "#bd3786"
             ],
             [
              0.5555555555555556,
              "#d8576b"
             ],
             [
              0.6666666666666666,
              "#ed7953"
             ],
             [
              0.7777777777777778,
              "#fb9f3a"
             ],
             [
              0.8888888888888888,
              "#fdca26"
             ],
             [
              1,
              "#f0f921"
             ]
            ],
            "type": "surface"
           }
          ],
          "table": [
           {
            "cells": {
             "fill": {
              "color": "#EBF0F8"
             },
             "line": {
              "color": "white"
             }
            },
            "header": {
             "fill": {
              "color": "#C8D4E3"
             },
             "line": {
              "color": "white"
             }
            },
            "type": "table"
           }
          ]
         },
         "layout": {
          "annotationdefaults": {
           "arrowcolor": "#2a3f5f",
           "arrowhead": 0,
           "arrowwidth": 1
          },
          "autotypenumbers": "strict",
          "coloraxis": {
           "colorbar": {
            "outlinewidth": 0,
            "ticks": ""
           }
          },
          "colorscale": {
           "diverging": [
            [
             0,
             "#8e0152"
            ],
            [
             0.1,
             "#c51b7d"
            ],
            [
             0.2,
             "#de77ae"
            ],
            [
             0.3,
             "#f1b6da"
            ],
            [
             0.4,
             "#fde0ef"
            ],
            [
             0.5,
             "#f7f7f7"
            ],
            [
             0.6,
             "#e6f5d0"
            ],
            [
             0.7,
             "#b8e186"
            ],
            [
             0.8,
             "#7fbc41"
            ],
            [
             0.9,
             "#4d9221"
            ],
            [
             1,
             "#276419"
            ]
           ],
           "sequential": [
            [
             0,
             "#0d0887"
            ],
            [
             0.1111111111111111,
             "#46039f"
            ],
            [
             0.2222222222222222,
             "#7201a8"
            ],
            [
             0.3333333333333333,
             "#9c179e"
            ],
            [
             0.4444444444444444,
             "#bd3786"
            ],
            [
             0.5555555555555556,
             "#d8576b"
            ],
            [
             0.6666666666666666,
             "#ed7953"
            ],
            [
             0.7777777777777778,
             "#fb9f3a"
            ],
            [
             0.8888888888888888,
             "#fdca26"
            ],
            [
             1,
             "#f0f921"
            ]
           ],
           "sequentialminus": [
            [
             0,
             "#0d0887"
            ],
            [
             0.1111111111111111,
             "#46039f"
            ],
            [
             0.2222222222222222,
             "#7201a8"
            ],
            [
             0.3333333333333333,
             "#9c179e"
            ],
            [
             0.4444444444444444,
             "#bd3786"
            ],
            [
             0.5555555555555556,
             "#d8576b"
            ],
            [
             0.6666666666666666,
             "#ed7953"
            ],
            [
             0.7777777777777778,
             "#fb9f3a"
            ],
            [
             0.8888888888888888,
             "#fdca26"
            ],
            [
             1,
             "#f0f921"
            ]
           ]
          },
          "colorway": [
           "#636efa",
           "#EF553B",
           "#00cc96",
           "#ab63fa",
           "#FFA15A",
           "#19d3f3",
           "#FF6692",
           "#B6E880",
           "#FF97FF",
           "#FECB52"
          ],
          "font": {
           "color": "#2a3f5f"
          },
          "geo": {
           "bgcolor": "white",
           "lakecolor": "white",
           "landcolor": "white",
           "showlakes": true,
           "showland": true,
           "subunitcolor": "#C8D4E3"
          },
          "hoverlabel": {
           "align": "left"
          },
          "hovermode": "closest",
          "mapbox": {
           "style": "light"
          },
          "paper_bgcolor": "white",
          "plot_bgcolor": "white",
          "polar": {
           "angularaxis": {
            "gridcolor": "#EBF0F8",
            "linecolor": "#EBF0F8",
            "ticks": ""
           },
           "bgcolor": "white",
           "radialaxis": {
            "gridcolor": "#EBF0F8",
            "linecolor": "#EBF0F8",
            "ticks": ""
           }
          },
          "scene": {
           "xaxis": {
            "backgroundcolor": "white",
            "gridcolor": "#DFE8F3",
            "gridwidth": 2,
            "linecolor": "#EBF0F8",
            "showbackground": true,
            "ticks": "",
            "zerolinecolor": "#EBF0F8"
           },
           "yaxis": {
            "backgroundcolor": "white",
            "gridcolor": "#DFE8F3",
            "gridwidth": 2,
            "linecolor": "#EBF0F8",
            "showbackground": true,
            "ticks": "",
            "zerolinecolor": "#EBF0F8"
           },
           "zaxis": {
            "backgroundcolor": "white",
            "gridcolor": "#DFE8F3",
            "gridwidth": 2,
            "linecolor": "#EBF0F8",
            "showbackground": true,
            "ticks": "",
            "zerolinecolor": "#EBF0F8"
           }
          },
          "shapedefaults": {
           "line": {
            "color": "#2a3f5f"
           }
          },
          "ternary": {
           "aaxis": {
            "gridcolor": "#DFE8F3",
            "linecolor": "#A2B1C6",
            "ticks": ""
           },
           "baxis": {
            "gridcolor": "#DFE8F3",
            "linecolor": "#A2B1C6",
            "ticks": ""
           },
           "bgcolor": "white",
           "caxis": {
            "gridcolor": "#DFE8F3",
            "linecolor": "#A2B1C6",
            "ticks": ""
           }
          },
          "title": {
           "x": 0.05
          },
          "xaxis": {
           "automargin": true,
           "gridcolor": "#EBF0F8",
           "linecolor": "#EBF0F8",
           "ticks": "",
           "title": {
            "standoff": 15
           },
           "zerolinecolor": "#EBF0F8",
           "zerolinewidth": 2
          },
          "yaxis": {
           "automargin": true,
           "gridcolor": "#EBF0F8",
           "linecolor": "#EBF0F8",
           "ticks": "",
           "title": {
            "standoff": 15
           },
           "zerolinecolor": "#EBF0F8",
           "zerolinewidth": 2
          }
         }
        },
        "title": {
         "text": "Reinforcement Learning Trader"
        },
        "xaxis": {
         "anchor": "y",
         "autorange": true,
         "domain": [
          0,
          1
         ],
         "range": [
          "2015-01-30 15:03:25.2039",
          "2015-05-05 08:56:34.7961"
         ],
         "title": {
          "text": "Time"
         },
         "type": "date"
        },
        "yaxis": {
         "anchor": "x",
         "autorange": true,
         "domain": [
          0,
          1
         ],
         "range": [
          26.297585972176748,
          30.08918046153908
         ],
         "title": {
          "text": "Price"
         },
         "type": "linear"
        }
       }
      },
      "image/png": "[encoded data removed]",
      "text/html": [
       "<div>                            <div id=\"94de99d9-bfc1-4ff4-973b-a14219480dd7\" class=\"plotly-graph-div\" style=\"height:525px; width:100%;\"></div>            <script type=\"text/javascript\">                require([\"plotly\"], function(Plotly) {                    window.PLOTLYENV=window.PLOTLYENV || {};                                    if (document.getElementById(\"94de99d9-bfc1-4ff4-973b-a14219480dd7\")) {                    Plotly.newPlot(                        \"94de99d9-bfc1-4ff4-973b-a14219480dd7\",                        [{\"hovertemplate\":\"Action=Sell\\u003cbr\\u003eTime=%{x}\\u003cbr\\u003ePrice=%{y}\\u003cextra\\u003e\\u003c\\u002fextra\\u003e\",\"legendgroup\":\"Sell\",\"marker\":{\"color\":\"red\",\"symbol\":\"circle\",\"size\":10},\"mode\":\"markers\",\"name\":\"Sell\",\"orientation\":\"v\",\"showlegend\":true,\"x\":[\"2015-02-05T00:00:00\",\"2015-02-06T00:00:00\",\"2015-02-09T00:00:00\",\"2015-02-10T00:00:00\",\"2015-02-11T00:00:00\",\"2015-02-12T00:00:00\",\"2015-02-13T00:00:00\",\"2015-02-19T00:00:00\",\"2015-02-23T00:00:00\",\"2015-02-24T00:00:00\",\"2015-02-25T00:00:00\",\"2015-02-26T00:00:00\",\"2015-02-27T00:00:00\",\"2015-03-02T00:00:00\",\"2015-03-04T00:00:00\",\"2015-03-18T00:00:00\",\"2015-03-19T00:00:00\",\"2015-04-07T00:00:00\",\"2015-04-22T00:00:00\",\"2015-04-24T00:00:00\",\"2015-04-27T00:00:00\",\"2015-04-28T00:00:00\",\"2015-04-29T00:00:00\"],\"xaxis\":\"x\",\"y\":[26.844877243041992,26.618818283081055,26.795631408691406,27.31041717529297,27.950538635253903,28.30417251586914,28.44294548034668,28.749576568603516,29.76794815063477,29.582181930541992,28.825674057006836,29.190502166748047,28.75181770324707,28.8928165435791,28.76972198486328,28.75404930114746,28.536945343017575,28.203454971313477,28.787626266479492,29.159164428710938,29.689619064331055,29.221839904785156,28.792104721069336],\"yaxis\":\"y\",\"type\":\"scatter\"},{\"hovertemplate\":\"Action=Hold\\u003cbr\\u003eTime=%{x}\\u003cbr\\u003ePrice=%{y}\\u003cextra\\u003e\\u003c\\u002fextra\\u003e\",\"legendgroup\":\"Hold\",\"marker\":{\"color\":\"gray\",\"symbol\":\"diamond\",\"size\":10},\"mode\":\"markers\",\"name\":\"Hold\",\"orientation\":\"v\",\"showlegend\":true,\"x\":[\"2015-02-17T00:00:00\",\"2015-02-20T00:00:00\",\"2015-03-11T00:00:00\",\"2015-03-12T00:00:00\",\"2015-03-16T00:00:00\",\"2015-03-20T00:00:00\",\"2015-03-25T00:00:00\",\"2015-03-26T00:00:00\",\"2015-03-30T00:00:00\",\"2015-04-01T00:00:00\",\"2015-04-08T00:00:00\",\"2015-04-13T00:00:00\",\"2015-04-17T00:00:00\",\"2015-04-20T00:00:00\"],\"xaxis\":\"x\",\"y\":[28.61080551147461,28.98458480834961,27.359655380249023,27.854297637939453,27.966205596923828,28.178834915161133,27.614810943603516,27.807294845581055,28.284034729003903,27.80953598022461,28.1116886138916,28.391462326049805,27.921445846557617,28.559328079223633],\"yaxis\":\"y\",\"type\":\"scatter\"},{\"hovertemplate\":\"Action=Buy\\u003cbr\\u003eTime=%{x}\\u003cbr\\u003ePrice=%{y}\\u003cextra\\u003e\\u003c\\u002fextra\\u003e\",\"legendgroup\":\"Buy\",\"marker\":{\"color\":\"#00FF7F\",\"symbol\":\"square\",\"size\":10},\"mode\":\"markers\",\"name\":\"Buy\",\"orientation\":\"v\",\"showlegend\":true,\"x\":[\"2015-02-18T00:00:00\",\"2015-03-03T00:00:00\",\"2015-03-05T00:00:00\",\"2015-03-06T00:00:00\",\"2015-03-09T00:00:00\",\"2015-03-10T00:00:00\",\"2015-03-13T00:00:00\",\"2015-03-17T00:00:00\",\"2015-03-23T00:00:00\",\"2015-03-24T00:00:00\",\"2015-03-27T00:00:00\",\"2015-03-31T00:00:00\",\"2015-04-02T00:00:00\",\"2015-04-06T00:00:00\",\"2015-04-09T00:00:00\",\"2015-04-10T00:00:00\",\"2015-04-14T00:00:00\",\"2015-04-15T00:00:00\",\"2015-04-16T00:00:00\",\"2015-04-21T00:00:00\",\"2015-04-23T00:00:00\",\"2015-04-30T00:00:00\"],\"xaxis\":\"x\",\"y\":[28.81001091003418,28.9532470703125,28.29298210144043,28.335508346557617,28.45637321472168,27.867733001708984,27.66181373596191,28.433988571166992,28.47203826904297,28.35565185546875,27.585718154907227,27.849822998046875,28.049015045166016,28.50338363647461,28.326560974121097,28.447420120239254,28.26836204528809,28.37580108642578,28.239273071289062,28.404890060424805,29.022634506225582,28.01097297668457],\"yaxis\":\"y\",\"type\":\"scatter\"},{\"line\":{\"color\":\"blue\",\"width\":2},\"mode\":\"lines\",\"name\":\"Price\",\"x\":[\"2015-02-05T00:00:00\",\"2015-02-06T00:00:00\",\"2015-02-09T00:00:00\",\"2015-02-10T00:00:00\",\"2015-02-11T00:00:00\",\"2015-02-12T00:00:00\",\"2015-02-13T00:00:00\",\"2015-02-17T00:00:00\",\"2015-02-18T00:00:00\",\"2015-02-19T00:00:00\",\"2015-02-20T00:00:00\",\"2015-02-23T00:00:00\",\"2015-02-24T00:00:00\",\"2015-02-25T00:00:00\",\"2015-02-26T00:00:00\",\"2015-02-27T00:00:00\",\"2015-03-02T00:00:00\",\"2015-03-03T00:00:00\",\"2015-03-04T00:00:00\",\"2015-03-05T00:00:00\",\"2015-03-06T00:00:00\",\"2015-03-09T00:00:00\",\"2015-03-10T00:00:00\",\"2015-03-11T00:00:00\",\"2015-03-12T00:00:00\",\"2015-03-13T00:00:00\",\"2015-03-16T00:00:00\",\"2015-03-17T00:00:00\",\"2015-03-18T00:00:00\",\"2015-03-19T00:00:00\",\"2015-03-20T00:00:00\",\"2015-03-23T00:00:00\",\"2015-03-24T00:00:00\",\"2015-03-25T00:00:00\",\"2015-03-26T00:00:00\",\"2015-03-27T00:00:00\",\"2015-03-30T00:00:00\",\"2015-03-31T00:00:00\",\"2015-04-01T00:00:00\",\"2015-04-02T00:00:00\",\"2015-04-06T00:00:00\",\"2015-04-07T00:00:00\",\"2015-04-08T00:00:00\",\"2015-04-09T00:00:00\",\"2015-04-10T00:00:00\",\"2015-04-13T00:00:00\",\"2015-04-14T00:00:00\",\"2015-04-15T00:00:00\",\"2015-04-16T00:00:00\",\"2015-04-17T00:00:00\",\"2015-04-20T00:00:00\",\"2015-04-21T00:00:00\",\"2015-04-22T00:00:00\",\"2015-04-23T00:00:00\",\"2015-04-24T00:00:00\",\"2015-04-27T00:00:00\",\"2015-04-28T00:00:00\",\"2015-04-29T00:00:00\",\"2015-04-30T00:00:00\"],\"y\":[26.844877243041992,26.618818283081055,26.795631408691406,27.31041717529297,27.950538635253903,28.30417251586914,28.44294548034668,28.61080551147461,28.81001091003418,28.749576568603516,28.98458480834961,29.76794815063477,29.582181930541992,28.825674057006836,29.190502166748047,28.75181770324707,28.8928165435791,28.9532470703125,28.76972198486328,28.29298210144043,28.335508346557617,28.45637321472168,27.867733001708984,27.359655380249023,27.854297637939453,27.66181373596191,27.966205596923828,28.433988571166992,28.75404930114746,28.536945343017575,28.178834915161133,28.47203826904297,28.35565185546875,27.614810943603516,27.807294845581055,27.585718154907227,28.284034729003903,27.849822998046875,27.80953598022461,28.049015045166016,28.50338363647461,28.203454971313477,28.1116886138916,28.326560974121097,28.447420120239254,28.391462326049805,28.26836204528809,28.37580108642578,28.239273071289062,27.921445846557617,28.559328079223633,28.404890060424805,28.787626266479492,29.022634506225582,29.159164428710938,29.689619064331055,29.221839904785156,28.792104721069336,28.01097297668457],\"type\":\"scatter\",\"marker\":{\"size\":10}}],                        {\"template\":{\"data\":{\"barpolar\":[{\"marker\":{\"line\":{\"color\":\"white\",\"width\":0.5},\"pattern\":{\"fillmode\":\"overlay\",\"size\":10,\"solidity\":0.2}},\"type\":\"barpolar\"}],\"bar\":[{\"error_x\":{\"color\":\"#2a3f5f\"},\"error_y\":{\"color\":\"#2a3f5f\"},\"marker\":{\"line\":{\"color\":\"white\",\"width\":0.5},\"pattern\":{\"fillmode\":\"overlay\",\"size\":10,\"solidity\":0.2}},\"type\":\"bar\"}],\"carpet\":[{\"aaxis\":{\"endlinecolor\":\"#2a3f5f\",\"gridcolor\":\"#C8D4E3\",\"linecolor\":\"#C8D4E3\",\"minorgridcolor\":\"#C8D4E3\",\"startlinecolor\":\"#2a3f5f\"},\"baxis\":{\"endlinecolor\":\"#2a3f5f\",\"gridcolor\":\"#C8D4E3\",\"linecolor\":\"#C8D4E3\",\"minorgridcolor\":\"#C8D4E3\",\"startlinecolor\":\"#2a3f5f\"},\"type\":\"carpet\"}],\"choropleth\":[{\"colorbar\":{\"outlinewidth\":0,\"ticks\":\"\"},\"type\":\"choropleth\"}],\"contourcarpet\":[{\"colorbar\":{\"outlinewidth\":0,\"ticks\":\"\"},\"type\":\"contourcarpet\"}],\"contour\":[{\"colorbar\":{\"outlinewidth\":0,\"ticks\":\"\"},\"colorscale\":[[0.0,\"#0d0887\"],[0.1111111111111111,\"#46039f\"],[0.2222222222222222,\"#7201a8\"],[0.3333333333333333,\"#9c179e\"],[0.4444444444444444,\"#bd3786\"],[0.5555555555555556,\"#d8576b\"],[0.6666666666666666,\"#ed7953\"],[0.7777777777777778,\"#fb9f3a\"],[0.8888888888888888,\"#fdca26\"],[1.0,\"#f0f921\"]],\"type\":\"contour\"}],\"heatmapgl\":[{\"colorbar\":{\"outlinewidth\":0,\"ticks\":\"\"},\"colorscale\":[[0.0,\"#0d0887\"],[0.1111111111111111,\"#46039f\"],[0.2222222222222222,\"#7201a8\"],[0.3333333333333333,\"#9c179e\"],[0.4444444444444444,\"#bd3786\"],[0.5555555555555556,\"#d8576b\"],[0.6666666666666666,\"#ed7953\"],[0.7777777777777778,\"#fb9f3a\"],[0.8888888888888888,\"#fdca26\"],[1.0,\"#f0f921\"]],\"type\":\"heatmapgl\"}],\"heatmap\":[{\"colorbar\":{\"outlinewidth\":0,\"ticks\":\"\"},\"colorscale\":[[0.0,\"#0d0887\"],[0.1111111111111111,\"#46039f\"],[0.2222222222222222,\"#7201a8\"],[0.3333333333333333,\"#9c179e\"],[0.4444444444444444,\"#bd3786\"],[0.5555555555555556,\"#d8576b\"],[0.6666666666666666,\"#ed7953\"],[0.7777777777777778,\"#fb9f3a\"],[0.8888888888888888,\"#fdca26\"],[1.0,\"#f0f921\"]],\"type\":\"heatmap\"}],\"histogram2dcontour\":[{\"colorbar\":{\"outlinewidth\":0,\"ticks\":\"\"},\"colorscale\":[[0.0,\"#0d0887\"],[0.1111111111111111,\"#46039f\"],[0.2222222222222222,\"#7201a8\"],[0.3333333333333333,\"#9c179e\"],[0.4444444444444444,\"#bd3786\"],[0.5555555555555556,\"#d8576b\"],[0.6666666666666666,\"#ed7953\"],[0.7777777777777778,\"#fb9f3a\"],[0.8888888888888888,\"#fdca26\"],[1.0,\"#f0f921\"]],\"type\":\"histogram2dcontour\"}],\"histogram2d\":[{\"colorbar\":{\"outlinewidth\":0,\"ticks\":\"\"},\"colorscale\":[[0.0,\"#0d0887\"],[0.1111111111111111,\"#46039f\"],[0.2222222222222222,\"#7201a8\"],[0.3333333333333333,\"#9c179e\"],[0.4444444444444444,\"#bd3786\"],[0.5555555555555556,\"#d8576b\"],[0.6666666666666666,\"#ed7953\"],[0.7777777777777778,\"#fb9f3a\"],[0.8888888888888888,\"#fdca26\"],[1.0,\"#f0f921\"]],\"type\":\"histogram2d\"}],\"histogram\":[{\"marker\":{\"pattern\":{\"fillmode\":\"overlay\",\"size\":10,\"solidity\":0.2}},\"type\":\"histogram\"}],\"mesh3d\":[{\"colorbar\":{\"outlinewidth\":0,\"ticks\":\"\"},\"type\":\"mesh3d\"}],\"parcoords\":[{\"line\":{\"colorbar\":{\"outlinewidth\":0,\"ticks\":\"\"}},\"type\":\"parcoords\"}],\"pie\":[{\"automargin\":true,\"type\":\"pie\"}],\"scatter3d\":[{\"line\":{\"colorbar\":{\"outlinewidth\":0,\"ticks\":\"\"}},\"marker\":{\"colorbar\":{\"outlinewidth\":0,\"ticks\":\"\"}},\"type\":\"scatter3d\"}],\"scattercarpet\":[{\"marker\":{\"colorbar\":{\"outlinewidth\":0,\"ticks\":\"\"}},\"type\":\"scattercarpet\"}],\"scattergeo\":[{\"marker\":{\"colorbar\":{\"outlinewidth\":0,\"ticks\":\"\"}},\"type\":\"scattergeo\"}],\"scattergl\":[{\"marker\":{\"colorbar\":{\"outlinewidth\":0,\"ticks\":\"\"}},\"type\":\"scattergl\"}],\"scattermapbox\":[{\"marker\":{\"colorbar\":{\"outlinewidth\":0,\"ticks\":\"\"}},\"type\":\"scattermapbox\"}],\"scatterpolargl\":[{\"marker\":{\"colorbar\":{\"outlinewidth\":0,\"ticks\":\"\"}},\"type\":\"scatterpolargl\"}],\"scatterpolar\":[{\"marker\":{\"colorbar\":{\"outlinewidth\":0,\"ticks\":\"\"}},\"type\":\"scatterpolar\"}],\"scatter\":[{\"fillpattern\":{\"fillmode\":\"overlay\",\"size\":10,\"solidity\":0.2},\"type\":\"scatter\"}],\"scatterternary\":[{\"marker\":{\"colorbar\":{\"outlinewidth\":0,\"ticks\":\"\"}},\"type\":\"scatterternary\"}],\"surface\":[{\"colorbar\":{\"outlinewidth\":0,\"ticks\":\"\"},\"colorscale\":[[0.0,\"#0d0887\"],[0.1111111111111111,\"#46039f\"],[0.2222222222222222,\"#7201a8\"],[0.3333333333333333,\"#9c179e\"],[0.4444444444444444,\"#bd3786\"],[0.5555555555555556,\"#d8576b\"],[0.6666666666666666,\"#ed7953\"],[0.7777777777777778,\"#fb9f3a\"],[0.8888888888888888,\"#fdca26\"],[1.0,\"#f0f921\"]],\"type\":\"surface\"}],\"table\":[{\"cells\":{\"fill\":{\"color\":\"#EBF0F8\"},\"line\":{\"color\":\"white\"}},\"header\":{\"fill\":{\"color\":\"#C8D4E3\"},\"line\":{\"color\":\"white\"}},\"type\":\"table\"}]},\"layout\":{\"annotationdefaults\":{\"arrowcolor\":\"#2a3f5f\",\"arrowhead\":0,\"arrowwidth\":1},\"autotypenumbers\":\"strict\",\"coloraxis\":{\"colorbar\":{\"outlinewidth\":0,\"ticks\":\"\"}},\"colorscale\":{\"diverging\":[[0,\"#8e0152\"],[0.1,\"#c51b7d\"],[0.2,\"#de77ae\"],[0.3,\"#f1b6da\"],[0.4,\"#fde0ef\"],[0.5,\"#f7f7f7\"],[0.6,\"#e6f5d0\"],[0.7,\"#b8e186\"],[0.8,\"#7fbc41\"],[0.9,\"#4d9221\"],[1,\"#276419\"]],\"sequential\":[[0.0,\"#0d0887\"],[0.1111111111111111,\"#46039f\"],[0.2222222222222222,\"#7201a8\"],[0.3333333333333333,\"#9c179e\"],[0.4444444444444444,\"#bd3786\"],[0.5555555555555556,\"#d8576b\"],[0.6666666666666666,\"#ed7953\"],[0.7777777777777778,\"#fb9f3a\"],[0.8888888888888888,\"#fdca26\"],[1.0,\"#f0f921\"]],\"sequentialminus\":[[0.0,\"#0d0887\"],[0.1111111111111111,\"#46039f\"],[0.2222222222222222,\"#7201a8\"],[0.3333333333333333,\"#9c179e\"],[0.4444444444444444,\"#bd3786\"],[0.5555555555555556,\"#d8576b\"],[0.6666666666666666,\"#ed7953\"],[0.7777777777777778,\"#fb9f3a\"],[0.8888888888888888,\"#fdca26\"],[1.0,\"#f0f921\"]]},\"colorway\":[\"#636efa\",\"#EF553B\",\"#00cc96\",\"#ab63fa\",\"#FFA15A\",\"#19d3f3\",\"#FF6692\",\"#B6E880\",\"#FF97FF\",\"#FECB52\"],\"font\":{\"color\":\"#2a3f5f\"},\"geo\":{\"bgcolor\":\"white\",\"lakecolor\":\"white\",\"landcolor\":\"white\",\"showlakes\":true,\"showland\":true,\"subunitcolor\":\"#C8D4E3\"},\"hoverlabel\":{\"align\":\"left\"},\"hovermode\":\"closest\",\"mapbox\":{\"style\":\"light\"},\"paper_bgcolor\":\"white\",\"plot_bgcolor\":\"white\",\"polar\":{\"angularaxis\":{\"gridcolor\":\"#EBF0F8\",\"linecolor\":\"#EBF0F8\",\"ticks\":\"\"},\"bgcolor\":\"white\",\"radialaxis\":{\"gridcolor\":\"#EBF0F8\",\"linecolor\":\"#EBF0F8\",\"ticks\":\"\"}},\"scene\":{\"xaxis\":{\"backgroundcolor\":\"white\",\"gridcolor\":\"#DFE8F3\",\"gridwidth\":2,\"linecolor\":\"#EBF0F8\",\"showbackground\":true,\"ticks\":\"\",\"zerolinecolor\":\"#EBF0F8\"},\"yaxis\":{\"backgroundcolor\":\"white\",\"gridcolor\":\"#DFE8F3\",\"gridwidth\":2,\"linecolor\":\"#EBF0F8\",\"showbackground\":true,\"ticks\":\"\",\"zerolinecolor\":\"#EBF0F8\"},\"zaxis\":{\"backgroundcolor\":\"white\",\"gridcolor\":\"#DFE8F3\",\"gridwidth\":2,\"linecolor\":\"#EBF0F8\",\"showbackground\":true,\"ticks\":\"\",\"zerolinecolor\":\"#EBF0F8\"}},\"shapedefaults\":{\"line\":{\"color\":\"#2a3f5f\"}},\"ternary\":{\"aaxis\":{\"gridcolor\":\"#DFE8F3\",\"linecolor\":\"#A2B1C6\",\"ticks\":\"\"},\"baxis\":{\"gridcolor\":\"#DFE8F3\",\"linecolor\":\"#A2B1C6\",\"ticks\":\"\"},\"bgcolor\":\"white\",\"caxis\":{\"gridcolor\":\"#DFE8F3\",\"linecolor\":\"#A2B1C6\",\"ticks\":\"\"}},\"title\":{\"x\":0.05},\"xaxis\":{\"automargin\":true,\"gridcolor\":\"#EBF0F8\",\"linecolor\":\"#EBF0F8\",\"ticks\":\"\",\"title\":{\"standoff\":15},\"zerolinecolor\":\"#EBF0F8\",\"zerolinewidth\":2},\"yaxis\":{\"automargin\":true,\"gridcolor\":\"#EBF0F8\",\"linecolor\":\"#EBF0F8\",\"ticks\":\"\",\"title\":{\"standoff\":15},\"zerolinecolor\":\"#EBF0F8\",\"zerolinewidth\":2}}},\"xaxis\":{\"anchor\":\"y\",\"domain\":[0.0,1.0],\"title\":{\"text\":\"Time\"}},\"yaxis\":{\"anchor\":\"x\",\"domain\":[0.0,1.0],\"title\":{\"text\":\"Price\"}},\"legend\":{\"title\":{\"text\":\"Actions\"},\"tracegroupgap\":0},\"title\":{\"text\":\"Reinforcement Learning Trader\"},\"shapes\":[{\"line\":{\"color\":\"green\",\"dash\":\"dash\",\"width\":1.5},\"type\":\"line\",\"x0\":\"2015-04-01T00:00:00\",\"x1\":\"2015-04-01T00:00:00\",\"xref\":\"x\",\"y0\":0,\"y1\":1,\"yref\":\"y domain\"}]},                        {\"responsive\": true}                    ).then(function(){\n",
       "                            \n",
       "var gd = document.getElementById('94de99d9-bfc1-4ff4-973b-a14219480dd7');\n",
       "var x = new MutationObserver(function (mutations, observer) {{\n",
       "        var display = window.getComputedStyle(gd).display;\n",
       "        if (!display || display === 'none') {{\n",
       "            console.log([gd, 'removed!']);\n",
       "            Plotly.purge(gd);\n",
       "            observer.disconnect();\n",
       "        }}\n",
       "}});\n",
       "\n",
       "// Listen for the removal of the full notebook cells\n",
       "var notebookContainer = gd.closest('#notebook-container');\n",
       "if (notebookContainer) {{\n",
       "    x.observe(notebookContainer, {childList: true});\n",
       "}}\n",
       "\n",
       "// Listen for the clearing of the current output cell\n",
       "var outputEl = gd.closest('.output');\n",
       "if (outputEl) {{\n",
       "    x.observe(outputEl, {childList: true});\n",
       "}}\n",
       "\n",
       "                        })                };                });            </script>        </div>"
      ]
     },
     "metadata": {},
     "output_type": "display_data"
    }
   ],
   "source": [
    "import plotly.express as px\n",
    "import pandas as pd\n",
    "\n",
    "time = list(range(len(prices_nice_list2)))\n",
    "\n",
    "custom_colors = {\n",
    "    \"Buy\": \"#00FF7F\",\n",
    "    \"Sell\": \"red\",\n",
    "    \"Hold\": \"gray\"\n",
    "}\n",
    "\n",
    "# Create a DataFrame for easier handling\n",
    "data = pd.DataFrame({\n",
    "    \"Time\": list_dates_joined,\n",
    "    \"Price\": prices_nice_list2,\n",
    "    \"Action\": actions_list2\n",
    "})\n",
    "\n",
    "# Map actions to custom labels\n",
    "data[\"Action Label\"] = data[\"Action\"].map({1: \"Hold\", 0: \"Buy\", 2: \"Sell\"})\n",
    "\n",
    "# Use Plotly Express scatter to group actions for legend\n",
    "fig = px.scatter(\n",
    "    data,\n",
    "    x=\"Time\",\n",
    "    y=\"Price\",\n",
    "    color=\"Action Label\",  # Group by actions for distinct legend entries\n",
    "    symbol=\"Action Label\",  # Use different symbols for actions\n",
    "    color_discrete_map=custom_colors,  # Add custom colors\n",
    "    title=\"Reinforcement Learning Trader\",\n",
    "    labels={\"Price\": \"Price\", \"Time\": \"Time\", \"Action Label\": \"Action\"},  # Customize labels\n",
    ")\n",
    "\n",
    "# Add the price line\n",
    "fig.add_scatter(\n",
    "    x=data[\"Time\"],\n",
    "    y=data[\"Price\"],\n",
    "    mode=\"lines\",\n",
    "    line=dict(color=\"blue\", width=2),\n",
    "    name=\"Price\"\n",
    ")\n",
    "\n",
    "fig.add_vline(\n",
    "    x=pd.Timestamp('2015-04-01')  ,\n",
    "    line_width=1.5,\n",
    "    line_dash=\"dash\",\n",
    "    line_color=\"green\"\n",
    ")\n",
    "\n",
    "\n",
    "\n",
    "# Update layout\n",
    "fig.update_traces(marker=dict(size=10))  # Adjust marker size\n",
    "fig.update_layout(\n",
    "    template=\"plotly_white\",\n",
    "    legend_title_text=\"Actions\",  # Customize legend title\n",
    ")\n",
    "\n",
    "fig.write_html(\"figures/RL/Final_plot.html\")\n",
    "\n",
    "# Show the plot\n",
    "fig.show()\n"
   ]
  },
  {
   "cell_type": "markdown",
   "id": "e6e169d6-42fd-4b2f-bf88-3d1980110e29",
   "metadata": {},
   "source": [
    "This is the main plot of our Reinforcement Learning for now. Some very important properties: The RL trader was selling the positions as the price was high, then for a long time was alternating between buying and holding.\n",
    "\n",
    "One very nice feature of this experiment is that whenever it saw another rise in price the test data, it started selling again to make a profit, and we see it was done selling by the last point, as comparing to the previous moving average, it is probably crossing a low price point again."
   ]
  },
  {
   "cell_type": "markdown",
   "id": "53611998-062f-4489-9f8e-8fd2ed47a82a",
   "metadata": {},
   "source": [
    "We stress that this is only a backbone computation of the basics of Q-learning for trading. I plan to expand on it for future projects, and there are many exciting avenues to explore! For instance, it would be useful to understand the hyperparameters better, increase the amount of positions we can sell/buy in a trading day, get better at dynamically defining reward."
   ]
  },
  {
   "cell_type": "code",
   "execution_count": null,
   "id": "a01fdae4-ce65-4d6e-a683-d86e502cd23e",
   "metadata": {},
   "outputs": [],
   "source": []
  }
 ],
 "metadata": {
  "kernelspec": {
   "display_name": "tf",
   "language": "python",
   "name": "tf"
  },
  "language_info": {
   "codemirror_mode": {
    "name": "ipython",
    "version": 3
   },
   "file_extension": ".py",
   "mimetype": "text/x-python",
   "name": "python",
   "nbconvert_exporter": "python",
   "pygments_lexer": "ipython3",
   "version": "3.11.0"
  }
 },
 "nbformat": 4,
 "nbformat_minor": 5
}
